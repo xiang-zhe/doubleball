{
 "cells": [
  {
   "cell_type": "code",
   "execution_count": null,
   "metadata": {
    "collapsed": true
   },
   "outputs": [],
   "source": []
  },
  {
   "cell_type": "code",
   "execution_count": 1,
   "metadata": {},
   "outputs": [
    {
     "data": {
      "text/html": [
       "<div>\n",
       "<style>\n",
       "    .dataframe thead tr:only-child th {\n",
       "        text-align: right;\n",
       "    }\n",
       "\n",
       "    .dataframe thead th {\n",
       "        text-align: left;\n",
       "    }\n",
       "\n",
       "    .dataframe tbody tr th {\n",
       "        vertical-align: top;\n",
       "    }\n",
       "</style>\n",
       "<table border=\"1\" class=\"dataframe\">\n",
       "  <thead>\n",
       "    <tr style=\"text-align: right;\">\n",
       "      <th></th>\n",
       "      <th>sr0</th>\n",
       "    </tr>\n",
       "  </thead>\n",
       "  <tbody>\n",
       "    <tr>\n",
       "      <th>2181</th>\n",
       "      <td>2</td>\n",
       "    </tr>\n",
       "    <tr>\n",
       "      <th>2182</th>\n",
       "      <td>11</td>\n",
       "    </tr>\n",
       "    <tr>\n",
       "      <th>2183</th>\n",
       "      <td>11</td>\n",
       "    </tr>\n",
       "    <tr>\n",
       "      <th>2184</th>\n",
       "      <td>11</td>\n",
       "    </tr>\n",
       "    <tr>\n",
       "      <th>2185</th>\n",
       "      <td>4</td>\n",
       "    </tr>\n",
       "  </tbody>\n",
       "</table>\n",
       "</div>"
      ],
      "text/plain": [
       "      sr0\n",
       "2181    2\n",
       "2182   11\n",
       "2183   11\n",
       "2184   11\n",
       "2185    4"
      ]
     },
     "execution_count": 1,
     "metadata": {},
     "output_type": "execute_result"
    }
   ],
   "source": [
    "import csv\n",
    "import sys\n",
    "import os\n",
    "import pandas as pd\n",
    "import numpy as np\n",
    "from numpy import *\n",
    "from datetime import datetime\n",
    "from operator import itemgetter\n",
    "from collections import defaultdict\n",
    "\n",
    "import matplotlib.pyplot as plt\n",
    "import itertools\n",
    "from sklearn.metrics import confusion_matrix\n",
    "from sklearn.metrics import classification_report\n",
    "\n",
    "from sklearn.model_selection import cross_val_score\n",
    "from sklearn.model_selection import GridSearchCV\n",
    "from sklearn.pipeline import Pipeline\n",
    "from sklearn.model_selection import train_test_split\n",
    "\n",
    "%matplotlib inline\n",
    "\n",
    "#plt.style.use('ggplot')\n",
    "df=pd.read_excel('H:/lottery/ssq.xls',sheet_name='data')\n",
    "df.columns=['num', 'date', 'r1', 'r2', 'r3', 'r4', 'r5', 'r6', 'b', 'sr1', 'sr2',\n",
    "       'sr3', 'sr4', 'sr5', 'sr6', 'sales_volume', 'pool', 'first', 'bonus1', 'second', 'bonus2',\n",
    "       'third', 'bonus3', 'fourth', 'bonus4', 'fifth', 'bonus5', 'sexth', 'bonus6']\n",
    "#df.tail()\n",
    "X = df[[ 'b']]\n",
    "X.columns=['sr0']\n",
    "X.tail()"
   ]
  },
  {
   "cell_type": "code",
   "execution_count": 2,
   "metadata": {},
   "outputs": [
    {
     "name": "stdout",
     "output_type": "stream",
     "text": [
      "14 seconds\n"
     ]
    }
   ],
   "source": [
    "starttime = datetime.now()\n",
    "num_rows = X.shape[0]\n",
    "def creat_datasets(X, features ):\n",
    "    df_ = pd.DataFrame(columns = list(range(0, features)))\n",
    "    index = 0\n",
    "    for i in range(features, num_rows+1):\n",
    "        df_.loc[index] = X[col][i-features: i].reset_index(drop = True)\n",
    "        index += 1\n",
    "    return df_\n",
    "\n",
    "for col in X.columns :\n",
    "    locals()['df_'+ str(col)] = creat_datasets(X, 200)\n",
    "endtime = datetime.now()\n",
    "Time = endtime - starttime\n",
    "print(Time.seconds, 'seconds')\n",
    "# 至此据集完成"
   ]
  },
  {
   "cell_type": "code",
   "execution_count": 3,
   "metadata": {
    "collapsed": true
   },
   "outputs": [],
   "source": [
    "def split_c(df_):\n",
    "    # choose frequence >10 samples\n",
    "    #df = df_[df_[99].isin(df_[99].groupby(df_[99]).count()[df_[99].groupby(df_[99]).count()>30].index)]\n",
    "    X_ = df_.iloc[:, : -1].values\n",
    "    y_ = df_.iloc[:, -1].astype(int).values #dataframe.as_matrix() \n",
    "    ''' why need astpye(int/str), otherwise error with y_type=object??'''\n",
    "    X_train, X_test, y_train, y_test = train_test_split(X_, y_, test_size=0.2, random_state=14)\n",
    "    return X_, y_, X_train, X_test, y_train, y_test\n",
    "def score_c(clf, cv=3):\n",
    "    precision = cross_val_score(clf, X_, y_, cv=cv, scoring='precision_weighted')\n",
    "    recall = cross_val_score(clf, X_, y_, cv=cv, scoring='recall_weighted')\n",
    "    fls = cross_val_score(clf, X_, y_, cv=cv, scoring='f1_weighted')\n",
    "    return precision, recall, fls\n",
    "\n",
    "def plot_confusion_matrix(cm, classes,\n",
    "                          normalize=False,\n",
    "                          title='Confusion matrix',\n",
    "                          cmap=plt.cm.Blues):\n",
    "    \"\"\"\n",
    "    This function prints and plots the confusion matrix.\n",
    "    Normalization can be applied by setting `normalize=True`.\n",
    "    \"\"\"\n",
    "    '''if normalize:\n",
    "        cm = cm.astype('float') / cm.sum(axis=1)[:, np.newaxis]\n",
    "        print(\"Normalized confusion matrix\")\n",
    "    else:\n",
    "        print('Confusion matrix, without normalization')\n",
    "\n",
    "    print(cm)'''\n",
    "\n",
    "    plt.imshow(cm, interpolation='nearest', cmap=cmap)\n",
    "    plt.title(title)\n",
    "    plt.colorbar()\n",
    "    tick_marks = np.arange(len(classes))\n",
    "    plt.xticks(tick_marks, classes, rotation=45)\n",
    "    plt.yticks(tick_marks, classes)\n",
    "\n",
    "    fmt = '.2f' if normalize else 'd'\n",
    "    thresh = cm.max() / 2.\n",
    "    for i, j in itertools.product(range(cm.shape[0]), range(cm.shape[1])):\n",
    "        plt.text(j, i, format(cm[i, j], fmt),\n",
    "                 horizontalalignment=\"center\",\n",
    "                 color=\"white\" if cm[i, j] > thresh else \"black\")\n",
    "\n",
    "    plt.tight_layout()\n",
    "    plt.ylabel('True label')\n",
    "    plt.xlabel('Predicted label')\n",
    "    \n",
    "def total_f(pipe_LinearSVC, param_LinearSVC):\n",
    "    X_ = df_.iloc[:, : -1].values\n",
    "    y_ = df_.iloc[:, -1].astype(int).values.reshape(-1)\n",
    "    #dataframe.as_matrix()\n",
    "    X_train, X_test, y_train, y_test = train_test_split(X_, y_, test_size=0.2, random_state=14)\n",
    "    \n",
    "    grid_=GridSearchCV(pipe_LinearSVC, param_LinearSVC, n_jobs=-1, verbose=1, scoring='accuracy')\n",
    "    #default=None, and the default scorer of DT is accuracy. see also DecisionTreeClassifier.score(X, y)\n",
    "    grid_.fit(X_train, y_train)\n",
    "    # evaluation for best parameters\n",
    "    precision = cross_val_score(grid_.best_estimator_, X_, y_, cv=3, scoring='precision_weighted')\n",
    "    recall = cross_val_score(grid_.best_estimator_, X_, y_, cv=3, scoring='recall_weighted')\n",
    "    fls = cross_val_score(grid_.best_estimator_, X_, y_, cv=3, scoring='f1_weighted')\n",
    "    new = grid_.predict(df_.iloc[-1,1: ].values.reshape(1,-1))\n",
    "    print('df_R'+ str(i), new, 'precison:', precision, 'recall:', recall, 'f1:', fls)\n",
    "    print(grid_.best_estimator_)\n",
    "    \n",
    "    class_names = np.unique(y_train)\n",
    "    y_pred = grid_.predict(X_test)\n",
    "    report = classification_report(y_test, y_pred)\n",
    "    c = np.sum(y_test == y_pred)\n",
    "    print(report)\n",
    "    print('n_accuracy:', c)\n",
    "    cnf_matrix = confusion_matrix(y_test, y_pred)\n",
    "    np.set_printoptions(precision=2)\n",
    "    plt.figure(figsize=(8,8))\n",
    "    plot_confusion_matrix(cnf_matrix, classes=class_names)\n",
    "    plt.show()"
   ]
  },
  {
   "cell_type": "code",
   "execution_count": null,
   "metadata": {
    "collapsed": true
   },
   "outputs": [],
   "source": [
    "################    1  linear_model    Regression"
   ]
  },
  {
   "cell_type": "code",
   "execution_count": null,
   "metadata": {
    "collapsed": true
   },
   "outputs": [],
   "source": [
    "################    1.1  linear_model.ARDRegression\n",
    "'''\n",
    "The advantages of Bayesian Regression are:\n",
    "\n",
    "It adapts to the data at hand.\n",
    "It can be used to include regularization parameters in the estimation procedure.\n",
    "\n",
    "The disadvantages of Bayesian regression include:\n",
    "\n",
    "Inference of the model can be time consuming.\n",
    "'''"
   ]
  },
  {
   "cell_type": "code",
   "execution_count": null,
   "metadata": {
    "collapsed": true
   },
   "outputs": [],
   "source": [
    "from sklearn.linear_model import ARDRegression\n",
    "\n",
    "starttime = datetime.now()\n",
    "#start = time.time()\n",
    "\n",
    "pipe_ARDReg = Pipeline([('clf', ARDRegression(random_state=14))])\n",
    "param_ARDReg = {'clf__n_iter': [300, ], #default = 300\n",
    "                'clf__tol': [0.001, ], #default =0.001, Stop the algorithm if w has converged\n",
    "                'clf__alpha_1': [1e-06, ], #default =1e-06,\n",
    "                #Hyper-parameter : shape parameter for the Gamma distribution prior over the alpha parameter\n",
    "                'clf__alpha_2': [1e-06, ],\n",
    "                #Hyper-parameter : inverse scale parameter (rate parameter) for the Gamma distribution prior over the alpha parameter\n",
    "                'clf__lambda_1': [1e-06, ], \n",
    "                #Hyper-parameter : shape parameter for the Gamma distribution prior over the lambda parameter\n",
    "                'clf__lambda_2': [1e-06, ],\n",
    "                'clf__compute_score': [False, ],\n",
    "                'clf__threshold_lambda': [10000.0, ], #default = 1.e+4\n",
    "                #threshold for removing (pruning) weights with high precision from the computation. Default is 1.e+4.\n",
    "                'clf__fit_intercept': [True, ],\n",
    "                'clf__normalize': [False, ],\n",
    "                #This parameter is ignored when fit_intercept is set to False\n",
    "                'clf__copy_X': [True, ],\n",
    "                'clf__verbose': [False, ]\n",
    "                  }\n",
    "for i in range(0,1):\n",
    "    df_ =  locals()['df_sr'+ str(i)]\n",
    "    #df_ = df_.iloc[:,-30:]\n",
    "    total_f(pipe_ARDReg, param_ARDReg)\n",
    "\n",
    "endtime = datetime.now()\n",
    "#end = time.time()\n",
    "#print(start-end)\n",
    "Time = endtime - starttime\n",
    "print(Time.seconds, 'seconds')"
   ]
  },
  {
   "cell_type": "code",
   "execution_count": null,
   "metadata": {
    "collapsed": true
   },
   "outputs": [],
   "source": [
    "from sklearn.linear_model import BayesianRidge\n",
    "starttime = datetime.now()\n",
    "#start = time.time()\n",
    "\n",
    "pipe_BRidge = Pipeline([('clf', BayesianRidge(random_state=14))])\n",
    "param_BRidge = {'clf__n_iter': [300， ], #default = 300\n",
    "                'clf__tol': [0.001, ], #default =0.001, Stop the algorithm if w has converged\n",
    "                'clf__alpha_1': [1e-06, ], #default =1e-06,\n",
    "                #Hyper-parameter : shape parameter for the Gamma distribution prior over the alpha parameter\n",
    "                'clf__alpha_2': [1e-06, ],\n",
    "                #Hyper-parameter : inverse scale parameter (rate parameter) for the Gamma distribution prior over the alpha parameter\n",
    "                'clf__lambda_1': [1e-06, ], \n",
    "                #Hyper-parameter : shape parameter for the Gamma distribution prior over the lambda parameter\n",
    "                'clf__lambda_2': [1e-06, ],\n",
    "                'clf__compute_score': [False, ],\n",
    "                'clf__fit_intercept': [True, ],\n",
    "                'clf__normalize': [False, ],\n",
    "                #This parameter is ignored when fit_intercept is set to False\n",
    "                'clf__copy_X': [True, ],\n",
    "                'clf__verbose': [False, ]\n",
    "                  }\n",
    "for i in range(0,1):\n",
    "    df_ =  locals()['df_sr'+ str(i)]\n",
    "    #df_ = df_.iloc[:,-30:]\n",
    "    total_f(pipe_BRidge, param_BRidge)\n",
    "\n",
    "endtime = datetime.now()\n",
    "#end = time.time()\n",
    "#print(start-end)\n",
    "Time = endtime - starttime\n",
    "print(Time.seconds, 'seconds')"
   ]
  },
  {
   "cell_type": "code",
   "execution_count": null,
   "metadata": {
    "collapsed": true
   },
   "outputs": [],
   "source": [
    "################    1.2  linear_model.ElasticNetCV\n",
    "'''\n",
    "Minimizes the objective function:\n",
    "1 / (2 * n_samples) * ||y - Xw||^2_2 + alpha * l1_ratio * ||w||_1 + 0.5 * alpha * (1 - l1_ratio) * ||w||^2_2\n",
    "\n",
    "alpha = a + b and l1_ratio = a / (a + b)\n",
    "'''"
   ]
  },
  {
   "cell_type": "code",
   "execution_count": null,
   "metadata": {
    "collapsed": true
   },
   "outputs": [],
   "source": [
    "from sklearn.linear_model import ElasticNetCV\n",
    "starttime = datetime.now()\n",
    "\n",
    "pipe_ElastcNet = Pipeline([('clf', ElasticNetCV(random_state=14, n_jobs=-1))])\n",
    "param_ElastcNet = {'clf__l1_ratio': [0.5， ], #default = 0.5\n",
    "                   #For l1_ratio = 0 the penalty is an L2 penalty. For l1_ratio = 1 it is an L1 penalty.\n",
    "                   'clf__eps': [0.001, ], #Length of the path. eps=1e-3 means that alpha_min / alpha_max = 1e-3.\n",
    "                'clf__n_alphas': [100, ], #Number of alphas along the regularization path, used for each l1_ratio.\n",
    "                'clf__alphas': [None, ], #List of alphas where to compute the models. If None alphas are set automatically\n",
    "                   'clf__fit_intercept': [True, ],\n",
    "                   'clf__normalize': [False, ],\n",
    "                   'clf__precompute1': ['auto', ], \n",
    "                   #Whether to use a precomputed Gram matrix to speed up calculations. \n",
    "                   #If set to 'auto' let us decide. The Gram matrix can also be passed as argument.\n",
    "                   'clf__max_iter': [1000, ],\n",
    "                'clf__tol': [0.0001, ],\n",
    "                'clf__cv': [None, ],\n",
    "                \n",
    "                #This parameter is ignored when fit_intercept is set to False\n",
    "                'clf__copy_X': [True, ],\n",
    "                'clf__verbose': [0, ],\n",
    "                   'clf__positve': [False, ], #When set to True, forces the coefficients to be positive\n",
    "                   'clf__selection': ['cyclic', 'random'] #default='cyclic'\n",
    "                   #'random': a random coefficient is updated every iteration rather than looping over features sequentially by default. \n",
    "                   #This (setting to ‘random’) often leads to significantly faster convergence especially when tol is higher than 1e-4.\n",
    "                  }\n",
    "for i in range(0,1):\n",
    "    df_ =  locals()['df_sr'+ str(i)]\n",
    "    total_f(pipe_ElastcNet, param_ElastcNet)\n",
    "\n",
    "endtime = datetime.now()\n",
    "#end = time.time()\n",
    "#print(start-end)\n",
    "Time = endtime - starttime\n",
    "print(Time.seconds, 'seconds')\n"
   ]
  },
  {
   "cell_type": "code",
   "execution_count": null,
   "metadata": {
    "collapsed": true
   },
   "outputs": [],
   "source": [
    "################    1.3  linear_model.HuberRegressor\n",
    "'''\n",
    "The HuberRegressor differs from using SGDRegressor with loss set to huber in the following ways.\n",
    "\n",
    "HuberRegressor is scaling invariant. \n",
    "Once epsilon is set, scaling X and y down or up by different values would produce the same robustness to outliers as before. \n",
    "as compared to SGDRegressor where epsilon has to be set again when X and y are scaled.\n",
    "HuberRegressor should be more efficient to use on data with small number of samples \n",
    "while SGDRegressor needs a number of passes on the training data to produce the same robustness.\n",
    "'''"
   ]
  },
  {
   "cell_type": "code",
   "execution_count": null,
   "metadata": {
    "collapsed": true
   },
   "outputs": [],
   "source": [
    "from sklearn.linear_model import HuberRegressor\n",
    "starttime = datetime.now()\n",
    "\n",
    "pipe_HuberReg = Pipeline([('clf', HuberRegressor(random_state=14, n_jobs=-1))])\n",
    "param_HuberReg = {'clf__epsilon': [1.35， ], #default = 1.35\n",
    "                  #The parameter epsilon controls the number of samples that should be classified as outliers. \n",
    "                  #The smaller the epsilon, the more robust it is to outliers.\n",
    "                  'clf__max_iter': [100, ], #\n",
    "                  'clf__alpha': [0.0001, ], #Regularization parameter\n",
    "                  'clf__warm_start': [False, ],\n",
    "                  'clf__fit_intercept': [True, ],\n",
    "                  'clf__tol': [1e-05, ]\n",
    "                  }\n",
    "for i in range(0,1):\n",
    "    df_ =  locals()['df_sr'+ str(i)]\n",
    "    total_f(pipe_ElastcNet, param_ElastcNet)\n",
    "\n",
    "endtime = datetime.now()\n",
    "#end = time.time()\n",
    "#print(start-end)\n",
    "Time = endtime - starttime\n",
    "print(Time.seconds, 'seconds')\n"
   ]
  },
  {
   "cell_type": "code",
   "execution_count": null,
   "metadata": {
    "collapsed": true
   },
   "outputs": [],
   "source": [
    "################    1.4  linear_model.LarsCV\n",
    "'''\n",
    "Least-angle regression (LARS) is a regression algorithm for high-dimensional data; similar to forward stepwise regression. \n",
    "At each step, it finds the predictor most correlated with the response. When there are multiple predictors having equal correlation, \n",
    "instead of continuing along the same predictor, it proceeds in a direction equiangular between the predictors.\n",
    "\n",
    "The advantages of LARS are:\n",
    "\n",
    "It is numerically efficient in contexts where p >> n (i.e., when the number of dimensions is significantly greater than the number of points)\n",
    "It is computationally just as fast as forward selection and has the same order of complexity as an ordinary least squares.\n",
    "It produces a full piecewise linear solution path, which is useful in cross-validation or similar attempts to tune the model.\n",
    "If two variables are almost equally correlated with the response, then their coefficients should increase at approximately the same rate. \n",
    "The algorithm thus behaves as intuition would expect, and also is more stable.\n",
    "It is easily modified to produce solutions for other estimators, like the Lasso.\n",
    "\n",
    "The disadvantages of the LARS method include:\n",
    "\n",
    "Because LARS is based upon an iterative refitting of the residuals, it would appear to be especially sensitive to the effects of noise. \n",
    "This problem is discussed in detail by Weisberg in the discussion section of the Efron et al. (2004) Annals of Statistics article.\n",
    "'''"
   ]
  },
  {
   "cell_type": "code",
   "execution_count": null,
   "metadata": {
    "collapsed": true
   },
   "outputs": [],
   "source": [
    "from sklearn.linear_model import LarsCV\n",
    "starttime = datetime.now()\n",
    "\n",
    "pipe_LarsCV = Pipeline([('clf', LarsCV(random_state=14, n_jobs=-1))])\n",
    "param_LarsCV = {'clf__fit_intercept': [True， ], #default =\n",
    "                  'clf__verbose': [False, ], #\n",
    "                  'clf__max_iter': [500, ], #\n",
    "                  'clf__normalize': [True, ],\n",
    "                  'clf__precompute': ['auto', ],\n",
    "                  'clf__cv': [None, ],\n",
    "                'clf__max_n_alphas': [1000, ],\n",
    "                #The maximum number of points on the path used to compute the residuals in the cross-validation\n",
    "                'clf__eps': [2.2204460492503131e-16, ],\n",
    "                'clf__copy_X': [True, ],\n",
    "                'clf__positive': [False, ]\n",
    "                #Restrict coefficients to be >= 0. Be aware that you might want to remove fit_intercept which is set True by default.\n",
    "                  }\n",
    "for i in range(0,1):\n",
    "    df_ =  locals()['df_sr'+ str(i)]\n",
    "    total_f(pipe_LarsCV, param_LarsCV)\n",
    "\n",
    "endtime = datetime.now()\n",
    "#end = time.time()\n",
    "#print(start-end)\n",
    "Time = endtime - starttime\n",
    "print(Time.seconds, 'seconds')\n"
   ]
  },
  {
   "cell_type": "code",
   "execution_count": null,
   "metadata": {
    "collapsed": true
   },
   "outputs": [],
   "source": [
    "################    1.5  linear_model.LassoCV\n",
    "'''\n",
    "The Lasso is a linear model that estimates sparse coefficients. \n",
    "It is useful in some contexts due to its tendency to prefer solutions with fewer parameter values, \n",
    "effectively reducing the number of variables upon which the given solution is dependent. For this reason, \n",
    "the Lasso and its variants are fundamental to the field of compressed sensing. \n",
    "Under certain conditions, it can recover the exact set of non-zero weights\n",
    "'''"
   ]
  },
  {
   "cell_type": "code",
   "execution_count": null,
   "metadata": {
    "collapsed": true
   },
   "outputs": [],
   "source": [
    "from sklearn.linear_model import LassoCV\n",
    "starttime = datetime.now()\n",
    "\n",
    "pipe_LassoCV = Pipeline([('clf', LassoCV(random_state=14, n_jobs=-1))])\n",
    "param_LassoCV = {'clf__eps': [0.001， ], #default =0.001, Length of the path. eps=1e-3 means that alpha_min / alpha_max = 1e-3.\n",
    "                  'clf__n_alphas': [100, ], #Number of alphas along the regularization path\n",
    "                  'clf__alphas': [None, ], # numpy array, List of alphas where to compute the models. If None alphas are set automatically\n",
    "                  'clf__fit_intercept': [True, ],\n",
    "                 'clf__normalize': [False, ],\n",
    "                  'clf__precompute': ['auto', ],\n",
    "                 'clf__max_iter': [1000, ],\n",
    "                 'clf__tol': [0.0001, ],\n",
    "                 'clf__copy_X': [True, ],\n",
    "                  'clf__cv': [None, ],\n",
    "                'clf__verbose': [False, ],\n",
    "                #The maximum number of points on the path used to compute the residuals in the cross-validation\n",
    "                'clf__positive': [False, ],\n",
    "                'clf__selection': ['cyclic', 'random']\n",
    "                #random: a random coefficient is updated every iteration rather than looping over features sequentially by default. \n",
    "                 #This (setting to ‘random’) often leads to significantly faster convergence especially when tol is higher than 1e-4.\n",
    "                  }\n",
    "for i in range(0,1):\n",
    "    df_ =  locals()['df_sr'+ str(i)]\n",
    "    total_f(pipe_LassoCV, param_LassoCV)\n",
    "\n",
    "endtime = datetime.now()\n",
    "#end = time.time()\n",
    "#print(start-end)\n",
    "Time = endtime - starttime\n",
    "print(Time.seconds, 'seconds')\n"
   ]
  },
  {
   "cell_type": "code",
   "execution_count": null,
   "metadata": {
    "collapsed": true
   },
   "outputs": [],
   "source": [
    "################    1.6  linear_model.LassoLarsCV\n",
    "'''\n",
    "The Lasso is a linear model that estimates sparse coefficients. \n",
    "It is useful in some contexts due to its tendency to prefer solutions with fewer parameter values, \n",
    "effectively reducing the number of variables upon which the given solution is dependent. For this reason, \n",
    "the Lasso and its variants are fundamental to the field of compressed sensing. \n",
    "Under certain conditions, it can recover the exact set of non-zero weights\n",
    "'''"
   ]
  },
  {
   "cell_type": "code",
   "execution_count": null,
   "metadata": {
    "collapsed": true
   },
   "outputs": [],
   "source": [
    "from sklearn.linear_model import LassoLarsCV\n",
    "starttime = datetime.now()\n",
    "\n",
    "pipe_LassoLarsCV = Pipeline([('clf', LassoLarsCV(random_state=14, n_jobs=-1))])\n",
    "param_LassoLarsCV = {'clf__fit_intercept': [True， ], #default =\n",
    "                      'clf__verbose': [False, ], #\n",
    "                  'clf__max_iter': [500, ], #\n",
    "                  'clf__normalize': [True, ],\n",
    "                  'clf__precompute': ['auto', ],\n",
    "                  'clf__cv': [None, ],\n",
    "                'clf__max_n_alphas': [1000, ],\n",
    "                #The maximum number of points on the path used to compute the residuals in the cross-validation\n",
    "                'clf__eps': [2.2204460492503131e-16, ],\n",
    "                'clf__copy_X': [True, ],\n",
    "                'clf__positive': [False, ]\n",
    "                #Restrict coefficients to be >= 0. Be aware that you might want to remove fit_intercept which is set True by default.\n",
    "                  }\n",
    "#parameters is same to LarsCV\n",
    "for i in range(0,1):\n",
    "    df_ =  locals()['df_sr'+ str(i)]\n",
    "    total_f(pipe_LassoLarsCV, param_LassoLarsCV)\n",
    "\n",
    "endtime = datetime.now()\n",
    "#end = time.time()\n",
    "#print(start-end)\n",
    "Time = endtime - starttime\n",
    "print(Time.seconds, 'seconds')\n"
   ]
  },
  {
   "cell_type": "code",
   "execution_count": null,
   "metadata": {
    "collapsed": true
   },
   "outputs": [],
   "source": [
    "################    1.7  linear_model.LinearRegression\n",
    "'''\n",
    "\n",
    "'''"
   ]
  },
  {
   "cell_type": "code",
   "execution_count": null,
   "metadata": {
    "collapsed": true
   },
   "outputs": [],
   "source": [
    "from sklearn.linear_model import LinearRegression\n",
    "starttime = datetime.now()\n",
    "\n",
    "pipe_LinearReg = Pipeline([('clf', LinearRegression(random_state=14, n_jobs=-1))])\n",
    "param_LinearReg = {'clf__fit_intercept': [True， ], #default =\n",
    "                   'clf__normalize': [False, ], #\n",
    "                   'clf__copy_X': [True, ]\n",
    "                  }\n",
    "#parameters is same to LarsCV\n",
    "for i in range(0,1):\n",
    "    df_ =  locals()['df_sr'+ str(i)]\n",
    "    total_f(pipe_LinearReg, param_LinearReg)\n",
    "\n",
    "endtime = datetime.now()\n",
    "#end = time.time()\n",
    "#print(start-end)\n",
    "Time = endtime - starttime\n",
    "print(Time.seconds, 'seconds')\n"
   ]
  },
  {
   "cell_type": "code",
   "execution_count": null,
   "metadata": {
    "collapsed": true
   },
   "outputs": [],
   "source": [
    "################    1.8  linear_model.MultiTaskLassoCV\n",
    "'''\n",
    "Multi-task Lasso model trained with L1/L2 mixed-norm as regularizer\n",
    "The optimization objective for Lasso is:\n",
    "(1 / (2 * n_samples)) * ||Y - XW||^2_Fro + alpha * ||W||_21\n",
    "Where:\n",
    "||W||_21 = \\sum_i \\sqrt{\\sum_j w_{ij}^2}\n",
    "i.e. the sum of norm of each row.\n",
    "'''"
   ]
  },
  {
   "cell_type": "code",
   "execution_count": null,
   "metadata": {
    "collapsed": true
   },
   "outputs": [],
   "source": [
    "from sklearn.linear_model import MultiTaskLassoCV\n",
    "starttime = datetime.now()\n",
    "\n",
    "pipe_MultiTaskLasso = Pipeline([('clf', MultiTaskLassoCV(random_state=14, n_jobs=-1))])\n",
    "param_MultiTaskLasso = {'clf__eps': [0.001, ], #Length of the path. eps=1e-3 means that alpha_min / alpha_max = 1e-3\n",
    "                        'clf__n_alphas': [100， ], #Number of alphas along the regularization path\n",
    "                        'clf__alphas': [None, ], #array-like,\n",
    "                        'clf__fit_intercept': [True, ],\n",
    "                        'clf__normalize': [False, ],\n",
    "                        'clf__max_iter': [1000, ],\n",
    "                        'clf__tol': [0.0001, ],\n",
    "                        'clf__copy_X': [True, ], \n",
    "                        'clf__cv': [None, ], \n",
    "                        'clf__verbose': [False, ],\n",
    "                        'clf__selection': ['cyclic', 'random']\n",
    "                #random: a random coefficient is updated every iteration rather than looping over features sequentially by default. \n",
    "                 #This (setting to ‘random’) often leads to significantly faster convergence especially when tol is higher than 1e-4.\n",
    "                  }\n",
    "for i in range(0,1):\n",
    "    df_ =  locals()['df_sr'+ str(i)]\n",
    "    total_f(pipe_MultiTaskLasso, param_MultiTaskLasso)\n",
    "\n",
    "endtime = datetime.now()\n",
    "#end = time.time()\n",
    "#print(start-end)\n",
    "Time = endtime - starttime\n",
    "print(Time.seconds, 'seconds')\n"
   ]
  },
  {
   "cell_type": "code",
   "execution_count": null,
   "metadata": {
    "collapsed": true
   },
   "outputs": [],
   "source": [
    "################    1.9  linear_model.MultiTaskElasticNetCV\n",
    "'''\n",
    "Multi-task Lasso model trained with L1/L2 mixed-norm as regularizer\n",
    "The optimization objective for Lasso is:\n",
    "(1 / (2 * n_samples)) * ||Y - XW||^2_Fro + alpha * ||W||_21\n",
    "Where:\n",
    "||W||_21 = \\sum_i \\sqrt{\\sum_j w_{ij}^2}\n",
    "i.e. the sum of norm of each row.\n",
    "'''"
   ]
  },
  {
   "cell_type": "code",
   "execution_count": null,
   "metadata": {
    "collapsed": true
   },
   "outputs": [],
   "source": [
    "from sklearn.linear_model import MultiTaskElasticNetCV\n",
    "starttime = datetime.now()\n",
    "l1_ratio=0.5, eps=0.001, n_alphas=100, alphas=None, fit_intercept=True, normalize=False, max_iter=1000, tol=0.0001, cv=None,\n",
    "copy_X=True, verbose=0, n_jobs=1, random_state=None, selection=’cyclic’\n",
    "pipe_MultiTaskElastcNet = Pipeline([('clf', MultiTaskElasticNetCV(random_state=14, n_jobs=-1))])\n",
    "param_MultiTaskElasticNetCV = {'clf__l1_ratio': [0.5， ], #default = 0.5\n",
    "                   #For l1_ratio = 0 the penalty is an L2 penalty. For l1_ratio = 1 it is an L1 penalty.\n",
    "                               'clf__eps': [0.001, ], #Length of the path. eps=1e-3 means that alpha_min / alpha_max = 1e-3.\n",
    "                               'clf__n_alphas': [100, ], #Number of alphas along the regularization path, used for each l1_ratio.\n",
    "                               'clf__alphas': [None, ], #List of alphas where to compute the models. If None alphas are set automatically\n",
    "                               'clf__fit_intercept': [True, ],\n",
    "                               'clf__normalize': [False, ],\n",
    "                               'clf__max_iter': [1000, ],                      \n",
    "                               'clf__tol': [0.0001, ],\n",
    "                               'clf__cv': [None, ],\n",
    "                               'clf__copy_X': [True, ],\n",
    "                               'clf__verbose': [0, ],\n",
    "                               'clf__selection': ['cyclic', 'random'] #default='cyclic'\n",
    "                   #'random': a random coefficient is updated every iteration rather than looping over features sequentially by default. \n",
    "                   #This (setting to ‘random’) often leads to significantly faster convergence especially when tol is higher than 1e-4.\n",
    "                              }\n",
    "for i in range(0,1):\n",
    "    df_ =  locals()['df_sr'+ str(i)]\n",
    "    total_f(pipe_MultiTaskElasticNetCV, param_MultiTaskElasticNetCV)\n",
    "\n",
    "endtime = datetime.now()\n",
    "#end = time.time()\n",
    "#print(start-end)\n",
    "Time = endtime - starttime\n",
    "print(Time.seconds, 'seconds')"
   ]
  },
  {
   "cell_type": "code",
   "execution_count": null,
   "metadata": {
    "collapsed": true
   },
   "outputs": [],
   "source": [
    "################    1.10  linear_model.OrthogonalMatchingPursuitCV\n",
    "'''\n",
    "OrthogonalMatchingPursuit and orthogonal_mp implements the OMP algorithm for approximating the fit of a linear model \n",
    "with constraints imposed on the number of non-zero coefficients (ie. the L 0 pseudo-norm).\n",
    "Alternatively, orthogonal matching pursuit can target a specific error instead of a specific number of non-zero coefficients. \n",
    "OMP is based on a greedy algorithm that includes at each step the atom most highly correlated with the current residual. \n",
    "It is similar to the simpler matching pursuit (MP) method, but better in that at each iteration, \n",
    "the residual is recomputed using an orthogonal projection on the space of the previously chosen dictionary elements.\n",
    "'''"
   ]
  },
  {
   "cell_type": "code",
   "execution_count": null,
   "metadata": {
    "collapsed": true
   },
   "outputs": [],
   "source": [
    "from sklearn.linear_model import MultiTaskLassoCV\n",
    "starttime = datetime.now()\n",
    "\n",
    "pipe_OPMCV = Pipeline([('clf', OrthogonalMatchingPursuitCV(random_state=14, n_jobs=-1))])\n",
    "param_OPMCV = {'clf__copy': [True, ], # #default=True\n",
    "               #Whether the design matrix X must be copied by the algorithm. \n",
    "               #A false value is only helpful if X is already Fortran-ordered, otherwise a copy is made anyway.\n",
    "               'clf__fit_intercept': [True, ],\n",
    "               'clf__normalize': [True, ], #default=True\n",
    "               'clf__max_iter': [None, ], #default=None\n",
    "               'clf__cv': [None, ], \n",
    "               'clf__verbose': [False, ]  #default=False\n",
    "              }\n",
    "for i in range(0,1):\n",
    "    df_ =  locals()['df_sr'+ str(i)]\n",
    "    total_f(pipe_OPMCV, param_OPMCV)\n",
    "\n",
    "endtime = datetime.now()\n",
    "#end = time.time()\n",
    "#print(start-end)\n",
    "Time = endtime - starttime\n",
    "print(Time.seconds, 'seconds')\n"
   ]
  },
  {
   "cell_type": "code",
   "execution_count": null,
   "metadata": {
    "collapsed": true
   },
   "outputs": [],
   "source": [
    "################    1.11  linear_model.PassiveAggressiveeRegressor\n",
    "'''\n",
    "The passive-aggressive algorithms are a family of algorithms for large-scale learning. \n",
    "They are similar to the Perceptron in that they do not require a learning rate. \n",
    "However, contrary to the Perceptron, they include a regularization parameter C.\n",
    "\n",
    "For classification, PassiveAggressiveClassifier can be used with loss='hinge' (PA-I) or loss='squared_hinge' (PA-II). \n",
    "For regression, PassiveAggressiveRegressor can be used with loss='epsilon_insensitive' (PA-I) or loss='squared_epsilon_insensitive' (PA-II).\n",
    "'''"
   ]
  },
  {
   "cell_type": "code",
   "execution_count": null,
   "metadata": {
    "collapsed": true
   },
   "outputs": [],
   "source": [
    "from sklearn.linear_model import PassiveAggressiveeRegressor\n",
    "starttime = datetime.now()\n",
    "\n",
    "pipe_PAReg = Pipeline([('clf', PassiveAggressiveeRegressor(random_state=14))])\n",
    "param_PAReg = {'clf__C': [1.0, ], # #default=1.0, Maximum step size (regularization)\n",
    "               'clf__fit_intercept': [True, ],\n",
    "               'clf__max_iter': [None, ], #default=None\n",
    "               #The maximum number of passes over the training data (aka epochs). \n",
    "               #It only impacts the behavior in the fit method, and not the partial_fit.\n",
    "               'clf__tol': [None, ], #Defaults to 1e-3 , stop when (loss > previous_loss - tol)\n",
    "               'clf__shuffle': [True, ],  #default=True, Whether or not the training data should be shuffled after each epoch.\n",
    "               'clf__verbose': [0, ],  #default=0, \n",
    "               'clf__loss': ['epsilon_insensitive', ],  #default=epsilon_insensitive, \n",
    "               #epsilon_insensitive: equivalent to PA-I. squared_epsilon_insensitive: equivalent to PA-II in the reference paper.\n",
    "               'clf__epsilon': [0.1, ],  #default=False, \n",
    "               #If the difference between the current prediction and the correct label is below this threshold, the model is not updated.\n",
    "               'clf__warm_start': [False, ],  #default=False\n",
    "               'clf__average': [False, ],  #default=False\n",
    "               #When set to True, computes the averaged SGD weights and stores the result in the coef_ attribute. \n",
    "               #If set to an int greater than 1, averaging will begin once the total number of samples seen reaches average. \n",
    "               #So average=10 will begin averaging after seeing 10 samples.\n",
    "               'clf__n_iter': [None, ]  #default=False\n",
    "              }\n",
    "for i in range(0,1):\n",
    "    df_ =  locals()['df_sr'+ str(i)]\n",
    "    total_f(pipe_PAReg, param_PAReg)\n",
    "\n",
    "endtime = datetime.now()\n",
    "#end = time.time()\n",
    "#print(start-end)\n",
    "Time = endtime - starttime\n",
    "print(Time.seconds, 'seconds')\n"
   ]
  },
  {
   "cell_type": "code",
   "execution_count": null,
   "metadata": {
    "collapsed": true
   },
   "outputs": [],
   "source": [
    "################    1.12  linear_model.Perceptron\n",
    "'''\n",
    "The Perceptron is another simple algorithm suitable for large scale learning. By default:\n",
    "\n",
    "It does not require a learning rate.\n",
    "It is not regularized (penalized).\n",
    "It updates its model only on mistakes.\n",
    "The last characteristic implies that the Perceptron is slightly faster to train than SGD with the hinge loss \n",
    "and that the resulting models are sparser.\n",
    "'''"
   ]
  },
  {
   "cell_type": "code",
   "execution_count": null,
   "metadata": {
    "collapsed": true
   },
   "outputs": [],
   "source": [
    "from sklearn.linear_model import Perceptron\n",
    "starttime = datetime.now()\n",
    "\n",
    "pipe_Perceptron = Pipeline([('clf', Perceptron(random_state=14, n_jobs=-1))])\n",
    "param_Perceptron = {'clf__penalty': [None, ], #default=None; l2, l1 or elasticnet; The penalty (aka regularization term) to be used\n",
    "                    'clf__alpha': [0.0001, ], #default=0.0001, Constant that multiplies the regularization term if regularization is used. \n",
    "                    'clf__fit_intercept': [True, ], #default=True\n",
    "                    'clf__max_iter': [None, ], #Defaults to 5. Defaults to 1000 from 0.21, or if tol is not None.\n",
    "                    'clf__tol': [None, ],\n",
    "                    'clf__shuffle': [True, ],  #default=True, Whether or not the training data should be shuffled after each epoch.\n",
    "                    'clf__verbose': [0, ],  #default=0, \n",
    "                    'clf__eta0': [1.0, ],  #default=epsilon_insensitive, \n",
    "               #epsilon_insensitive: equivalent to PA-I. squared_epsilon_insensitive: equivalent to PA-II in the reference paper.\n",
    "                    'clf__class_weight': [None, ],  #default=False, \n",
    "               #If the difference between the current prediction and the correct label is below this threshold, the model is not updated.\n",
    "                    'clf__warm_start': [False, ],  #default=False\n",
    "                    'clf__n_iter': [None, ]  #default=False\n",
    "                   }\n",
    "for i in range(0,1):\n",
    "    df_ =  locals()['df_sr'+ str(i)]\n",
    "    total_f(pipe_Perceptron, param_Perceptron)\n",
    "\n",
    "endtime = datetime.now()\n",
    "#end = time.time()\n",
    "#print(start-end)\n",
    "Time = endtime - starttime\n",
    "print(Time.seconds, 'seconds')\n"
   ]
  },
  {
   "cell_type": "code",
   "execution_count": null,
   "metadata": {
    "collapsed": true
   },
   "outputs": [],
   "source": [
    "################    1.13  linear_model.RANSACRegressor\n",
    "'''\n",
    "RANSAC (RANdom SAmple Consensus) fits a model from random subsets of inliers from the complete data set.\n",
    "\n",
    "RANSAC is a non-deterministic algorithm producing only a reasonable result with a certain probability, \n",
    "which is dependent on the number of iterations (see max_trials parameter). \n",
    "It is typically used for linear and non-linear regression problems and is especially popular in the fields of photogrammetric computer vision.\n",
    "\n",
    "The algorithm splits the complete input sample data into a set of inliers, which may be subject to noise, and outliers, \n",
    "which are e.g. caused by erroneous measurements or invalid hypotheses about the data. \n",
    "The resulting model is then estimated only from the determined inliers.\n",
    "'''"
   ]
  },
  {
   "cell_type": "code",
   "execution_count": null,
   "metadata": {
    "collapsed": true
   },
   "outputs": [],
   "source": [
    "from sklearn.linear_model import RANSACRegressor\n",
    "starttime = datetime.now()\n",
    "\n",
    "pipe_RANSACReg = Pipeline([('clf', RANSACRegressor(random_state=14))])\n",
    "param_RANSACReg = {'clf__base_estimator': [None, ], #default=None=base_estimator=sklearn.linear_model.LinearRegression()\n",
    "                   #the current implementation only supports regression estimators.\n",
    "                    'clf__min_samples': [None, ], # int (>= 1) or float ([0, 1]); min_samples is chosen as X.shape[1] + 1.\n",
    "                    'clf__residual_threshold': [None, ], #default:  median absolute deviation of the target values y\n",
    "                    'clf__is_data_valid': [None, ], #Defaults \n",
    "                    'clf__is_model_valid': [None, ],\n",
    "                    'clf__max_trials': [100, ],  #default=True, Whether or not the training data should be shuffled after each epoch.\n",
    "                    'clf__max_skips': [inf, ],  #default=0, \n",
    "                   #Maximum number of iterations that can be skipped \n",
    "                   #due to finding zero inliers or invalid data defined by is_data_valid or invalid models defined by is_model_valid.\n",
    "                    'clf__stop_n_inliers': [inf, ],  #default=\n",
    "                    'clf__stop_score': [inf, ],  #default=\n",
    "                    'clf__stop_probability': [0.99, ],  #stops if at least one outlier-free set of the training data is sampled in RANSAC. \n",
    "                    'clf__residual_metric': [None, ],  #default=\n",
    "                   #Metric to reduce the dimensionality of the residuals to 1 for multi-dimensional target values y.shape[1] > 1. \n",
    "                   #By default the sum of absolute differences is used: lambda dy: np.sum(np.abs(dy), axis=1)\n",
    "                   'clf__loss': ['absolute_loss', 'squared_loss']  #default\n",
    "                   #If loss is a callable, then it should be a function that takes two arrays as inputs, \n",
    "                   #the true and predicted value and returns a 1-D array with the i-th value of the array corresponding to the loss on X[i].\n",
    "                   #If the loss on a sample is greater than the residual_threshold, then this sample is classified as an outlier.\n",
    "                   }\n",
    "for i in range(0,1):\n",
    "    df_ =  locals()['df_sr'+ str(i)]\n",
    "    total_f(pipe_RANSACReg, param_RANSACReg)\n",
    "\n",
    "endtime = datetime.now()\n",
    "#end = time.time()\n",
    "#print(start-end)\n",
    "Time = endtime - starttime\n",
    "print(Time.seconds, 'seconds')\n"
   ]
  },
  {
   "cell_type": "code",
   "execution_count": null,
   "metadata": {
    "collapsed": true
   },
   "outputs": [],
   "source": [
    "################    1.14  linear_model.RidgeCV\n",
    "'''\n",
    "Ridge regression addresses some of the problems of Ordinary Least Squares by imposing a penalty on the size of coefficients. \n",
    "The ridge coefficients minimize a penalized residual sum of squares, min||Xw-y||^2+alpha*||w||^2; \n",
    "alpha>= 0 is a complexity parameter that controls the amount of shrinkage: the larger the value of alpha, \n",
    "the greater the amount of shrinkage and thus the coefficients become more robust to collinearity.\n",
    "'''"
   ]
  },
  {
   "cell_type": "code",
   "execution_count": null,
   "metadata": {
    "collapsed": true
   },
   "outputs": [],
   "source": [
    "from sklearn.linear_model import RidgeCV\n",
    "starttime = datetime.now()\n",
    "\n",
    "pipe_RidgeCV = Pipeline([('clf', RidgeCV(random_state=14))])\n",
    "param_RidgeCV = {'clf__alphas': [(0.1, 1.0, 10.0), ], #default=(0.1, 1.0, 10.0)\n",
    "                 #Array of alpha values to try. Regularization strength; must be a positive float. \n",
    "                 #Regularization improves the conditioning of the problem and reduces the variance of the estimates. \n",
    "                 #Larger values specify stronger regularization. \n",
    "                 #Alpha corresponds to C^-1 in other linear models such as LogisticRegression or LinearSVC.\n",
    "                    'clf__fit_intercept': [True, ], # \n",
    "                    'clf__normalize': [False, ], #default:  median absolute deviation of the target values y\n",
    "                    'clf__scoring': [None, ], #Defaults \n",
    "                    'clf__cv': [None, ],\n",
    "                 #For integer/None inputs, if y is binary or multiclass, sklearn.model_selection.StratifiedKFold is used, \n",
    "                 #else, sklearn.model_selection.KFold is used.\n",
    "                    'clf__gcv_mode': [None, 'auto', 'svd', 'eigen'],  #default=None=auto\n",
    "                 #'auto' : use svd if n_samples > n_features or when X is a sparse matrix, otherwise use eigen\n",
    "                 #'svd' : force computation via singular value decomposition of X (does not work for sparse matrices)\n",
    "                 #'eigen' : force computation via eigendecomposition of X^T X \n",
    "                 'clf__store_cv_values': [False, ],  #default=0, \n",
    "                }\n",
    "for i in range(0,1):\n",
    "    df_ =  locals()['df_sr'+ str(i)]\n",
    "    total_f(pipe_RidgeCV, param_RidgeCV)\n",
    "\n",
    "endtime = datetime.now()\n",
    "#end = time.time()\n",
    "#print(start-end)\n",
    "Time = endtime - starttime\n",
    "print(Time.seconds, 'seconds')\n"
   ]
  },
  {
   "cell_type": "code",
   "execution_count": null,
   "metadata": {
    "collapsed": true
   },
   "outputs": [],
   "source": [
    "################    1.15  linear_model.SGDRegressor\n",
    "'''\n",
    "SGD applied to large-scale and sparse machine learning problems often encountered in text classification and natural language processing. \n",
    "For sparse data, the classifiers in this module easily scale to problems with more than 10^5 training examples and more than 10^5 features.\n",
    "\n",
    "The advantages of Stochastic Gradient Descent are:\n",
    "Efficiency.\n",
    "Ease of implementation (lots of opportunities for code tuning).\n",
    "\n",
    "The disadvantages of Stochastic Gradient Descent include:\n",
    "SGD requires a number of hyperparameters such as the regularization parameter and the number of iterations.\n",
    "SGD is sensitive to feature scaling.\n",
    "'''"
   ]
  },
  {
   "cell_type": "code",
   "execution_count": null,
   "metadata": {
    "collapsed": true
   },
   "outputs": [],
   "source": [
    "from sklearn.linear_model import SGDRegressor\n",
    "starttime = datetime.now()\n",
    "\n",
    "pipe_SGDReg = Pipeline([('clf', SGDRegressor(random_state=14))])\n",
    "param_SGDReg = {'clf__loss': ['squared_loss', 'huber', 'epsilon_insensitive', 'squared_epsilon_insensitive'], #default=squared_loss\n",
    "                #'squared_loss': ordinary least squares fit  \n",
    "                #'huber': modifies 'squared_loss' to focus less on getting outliers correct \n",
    "                #     by switching from squared to linear loss past a distance of epsilon               \n",
    "                #'epsilon_insensitive': ignores errors less than epsilon and is linear past that; this is the loss function used in SVR.\n",
    "                #'squared_epsilon_insensitive': the same but becomes squared loss past a tolerance of epsilon.\n",
    "                'clf__penalty': ['l2', 'l1', 'elasticnet', None], # default='l2' \n",
    "                'clf__alpha': [0.0001, ], #default=0.0001;  Constant that multiplies the regularization term\n",
    "                'clf__l1_ratio': [0.15, ], #Default=0.15; The Elastic Net mixing parameter\n",
    "                'clf__fit_intercept': [True, ],\n",
    "                 #For integer/None inputs, if y is binary or multiclass, sklearn.model_selection.StratifiedKFold is used, \n",
    "                 #else, sklearn.model_selection.KFold is used.\n",
    "                'clf__max_iter': [None,],  #default=None\n",
    "                'clf__tol': [None,],  #default=None\n",
    "                'clf__shuffle': [True,],  #default=True\n",
    "                'clf__verbose': [0,],  #default=0\n",
    "                'clf__epsilon': [0.1,],  #default=0.1\n",
    "                # only if loss is 'huber', 'epsilon_insensitive', or 'squared_epsilon_insensitive'.\n",
    "                #For ‘huber’, determines the threshold at which it becomes less important to get the prediction exactly right. \n",
    "                #For epsilon-insensitive, any differences between the current prediction and the correct label are ignored \n",
    "                #    if they are less than this threshold.\n",
    "                'clf__learning_rate': ['invscaling',],  #default='invscaling'\n",
    "                #The learning rate schedule:\n",
    "                #    ‘constant’: eta = eta0; \n",
    "                #    ‘optimal’: eta = 1.0 / (alpha * (t + t0)) [default]\n",
    "                #    ‘invscaling’: eta = eta0 / pow(t, power_t); \n",
    "                #where t0 is chosen by a heuristic proposed by Leon Bottou.\n",
    "                'clf__eta0': [0.01,],  #default=0.01, double; The initial learning rate \n",
    "                'clf__power_t': [0.25,],  #default=0.25, double; The exponent for inverse scaling learning rate\n",
    "                'clf__warm_start': [False,],  #default=False\n",
    "                'clf__average': [False,],  #default=False\n",
    "                #When set to True, computes the averaged SGD weights and stores the result in the coef_ attribute. \n",
    "                #If set to an int greater than 1, averaging will begin once the total number of samples seen reaches average. \n",
    "                #So average=10 will begin averaging after seeing 10 samples.\n",
    "                'clf__n_iter': [None,] \n",
    "                }\n",
    "for i in range(0,1):\n",
    "    df_ =  locals()['df_sr'+ str(i)]\n",
    "    total_f(pipe_SGDReg, param_SGDReg)\n",
    "\n",
    "endtime = datetime.now()\n",
    "#end = time.time()\n",
    "#print(start-end)\n",
    "Time = endtime - starttime\n",
    "print(Time.seconds, 'seconds')\n"
   ]
  },
  {
   "cell_type": "code",
   "execution_count": null,
   "metadata": {
    "collapsed": true
   },
   "outputs": [],
   "source": [
    "################    1.16  linear_model.TheilSenRegressor\n",
    "'''\n",
    "The TheilSenRegressor estimator uses a generalization of the median in multiple dimensions. It is thus robust to multivariate outliers. \n",
    "Note however that the robustness of the estimator decreases quickly with the dimensionality of the problem. \n",
    "It looses its robustness properties and becomes no better than an ordinary least squares in high dimension.\n",
    "'''"
   ]
  },
  {
   "cell_type": "code",
   "execution_count": null,
   "metadata": {
    "collapsed": true
   },
   "outputs": [],
   "source": [
    "from sklearn.linear_model import TheilSenRegressor\n",
    "starttime = datetime.now()\n",
    "(fit_intercept=True, =True, \n",
    "                  =10000.0, =None, max_iter=300, tol=0.001, random_state=None, , =False)\n",
    "pipe_TheilSenReg = Pipeline([('clf', TheilSenRegressor(random_state=14, n_jobs=-1))])\n",
    "param_TheilSenReg = {'clf__fit_intercept': [True, ],\n",
    "                     'clf__copy_X': [True,],  #default=True\n",
    "                     'clf__max_subpopulation': [10000,],  #default=1e4\n",
    "                     'clf__n_subsamples': [None,],  #default=None;  Number of samples to calculate the parameters. \n",
    "                     #This is at least the number of features (plus 1 if fit_intercept=True) and the number of samples as a maximum. \n",
    "                     #A lower number leads to a higher breakdown point and a low efficiency \n",
    "                     #while a high number leads to a low breakdown point and a high efficiency. \n",
    "                     #If None, take the minimum number of subsamples leading to maximal robustness. \n",
    "                     #If n_subsamples is set to n_samples, Theil-Sen is identical to least squares.\n",
    "                     'clf__max_iter': [300,],  #default=300\n",
    "                     'clf__tol': [0.001,],  #default=0\n",
    "                     'clf__verbose': [False,]  #default=0.1\n",
    "                    }\n",
    "for i in range(0,1):\n",
    "    df_ =  locals()['df_sr'+ str(i)]\n",
    "    total_f(pipe_TheilSenReg, param_TheilSenReg)\n",
    "\n",
    "endtime = datetime.now()\n",
    "#end = time.time()\n",
    "#print(start-end)\n",
    "Time = endtime - starttime\n",
    "print(Time.seconds, 'seconds')\n"
   ]
  },
  {
   "cell_type": "code",
   "execution_count": null,
   "metadata": {
    "collapsed": true
   },
   "outputs": [],
   "source": []
  },
  {
   "cell_type": "code",
   "execution_count": null,
   "metadata": {
    "collapsed": true
   },
   "outputs": [],
   "source": []
  },
  {
   "cell_type": "code",
   "execution_count": null,
   "metadata": {
    "collapsed": true
   },
   "outputs": [],
   "source": [
    "################    2   linear_model    classifier"
   ]
  },
  {
   "cell_type": "code",
   "execution_count": null,
   "metadata": {
    "collapsed": true
   },
   "outputs": [],
   "source": [
    "################    2.1  linear_model.LogisticRegressionCV\n",
    "'''\n",
    "This class implements logistic regression using liblinear, newton-cg, sag of lbfgs optimizer. \n",
    "The newton-cg, sag and lbfgs solvers support only L2 regularization with primal formulation. \n",
    "The liblinear solver supports both L1 and L2 regularization, with a dual formulation only for the L2 penalty.\n",
    "\n",
    "For the grid of Cs values (that are set by default to be ten values in a logarithmic scale between 1e-4 and 1e4), \n",
    "the best hyperparameter is selected by the cross-validator StratifiedKFold, but it can be changed using the cv parameter. \n",
    "In the case of newton-cg and lbfgs solvers, we warm start along the path \n",
    "i.e guess the initial coefficients of the present fit to be the coefficients got after convergence in the previous fit, \n",
    "so it is supposed to be faster for high-dimensional dense data.\n",
    "\n",
    "For a multiclass problem, the hyperparameters for each class are computed using the best scores got by doing a one-vs-rest\n",
    "in parallel across all folds and classes. Hence this is not the true multinomial loss.\n",
    "'''"
   ]
  },
  {
   "cell_type": "code",
   "execution_count": 9,
   "metadata": {},
   "outputs": [
    {
     "name": "stdout",
     "output_type": "stream",
     "text": [
      "Fitting 3 folds for each of 3 candidates, totalling 9 fits\n"
     ]
    },
    {
     "name": "stderr",
     "output_type": "stream",
     "text": [
      "[Parallel(n_jobs=-1)]: Done   9 out of   9 | elapsed: 20.8min finished\n",
      "D:\\Anaconda3\\lib\\site-packages\\sklearn\\linear_model\\sag.py:286: ConvergenceWarning: The max_iter was reached which means the coef_ did not converge\n",
      "  \"the coef_ did not converge\", ConvergenceWarning)\n",
      "D:\\Anaconda3\\lib\\site-packages\\sklearn\\linear_model\\sag.py:286: ConvergenceWarning: The max_iter was reached which means the coef_ did not converge\n",
      "  \"the coef_ did not converge\", ConvergenceWarning)\n",
      "D:\\Anaconda3\\lib\\site-packages\\sklearn\\linear_model\\sag.py:286: ConvergenceWarning: The max_iter was reached which means the coef_ did not converge\n",
      "  \"the coef_ did not converge\", ConvergenceWarning)\n",
      "D:\\Anaconda3\\lib\\site-packages\\sklearn\\linear_model\\sag.py:286: ConvergenceWarning: The max_iter was reached which means the coef_ did not converge\n",
      "  \"the coef_ did not converge\", ConvergenceWarning)\n",
      "D:\\Anaconda3\\lib\\site-packages\\sklearn\\linear_model\\sag.py:286: ConvergenceWarning: The max_iter was reached which means the coef_ did not converge\n",
      "  \"the coef_ did not converge\", ConvergenceWarning)\n",
      "D:\\Anaconda3\\lib\\site-packages\\sklearn\\linear_model\\sag.py:286: ConvergenceWarning: The max_iter was reached which means the coef_ did not converge\n",
      "  \"the coef_ did not converge\", ConvergenceWarning)\n",
      "D:\\Anaconda3\\lib\\site-packages\\sklearn\\linear_model\\sag.py:286: ConvergenceWarning: The max_iter was reached which means the coef_ did not converge\n",
      "  \"the coef_ did not converge\", ConvergenceWarning)\n",
      "D:\\Anaconda3\\lib\\site-packages\\sklearn\\linear_model\\sag.py:286: ConvergenceWarning: The max_iter was reached which means the coef_ did not converge\n",
      "  \"the coef_ did not converge\", ConvergenceWarning)\n",
      "D:\\Anaconda3\\lib\\site-packages\\sklearn\\linear_model\\sag.py:286: ConvergenceWarning: The max_iter was reached which means the coef_ did not converge\n",
      "  \"the coef_ did not converge\", ConvergenceWarning)\n",
      "D:\\Anaconda3\\lib\\site-packages\\sklearn\\linear_model\\sag.py:286: ConvergenceWarning: The max_iter was reached which means the coef_ did not converge\n",
      "  \"the coef_ did not converge\", ConvergenceWarning)\n"
     ]
    },
    {
     "name": "stdout",
     "output_type": "stream",
     "text": [
      "df_R0 [6] precison: [ 0.05  0.05  0.06] recall: [ 0.05  0.05  0.07] f1: [ 0.05  0.05  0.06]\n",
      "Pipeline(steps=[('clf', LogisticRegressionCV(Cs=10, class_weight=None, cv=None, dual=False,\n",
      "           fit_intercept=True, intercept_scaling=1.0, max_iter=1000,\n",
      "           multi_class='ovr', n_jobs=1, penalty='l2', random_state=14,\n",
      "           refit=True, scoring=None, solver='sag', tol=0.0001, verbose=0))])\n",
      "             precision    recall  f1-score   support\n",
      "\n",
      "          1       0.12      0.12      0.12        25\n",
      "          2       0.00      0.00      0.00        27\n",
      "          3       0.04      0.05      0.04        22\n",
      "          4       0.00      0.00      0.00        23\n",
      "          5       0.00      0.00      0.00        25\n",
      "          6       0.00      0.00      0.00        15\n",
      "          7       0.05      0.04      0.05        23\n",
      "          8       0.00      0.00      0.00        19\n",
      "          9       0.14      0.11      0.12        37\n",
      "         10       0.12      0.03      0.05        31\n",
      "         11       0.06      0.04      0.05        24\n",
      "         12       0.08      0.13      0.10        31\n",
      "         13       0.12      0.09      0.10        22\n",
      "         14       0.00      0.00      0.00        24\n",
      "         15       0.12      0.11      0.12        27\n",
      "         16       0.06      0.13      0.08        23\n",
      "\n",
      "avg / total       0.06      0.06      0.06       398\n",
      "\n",
      "n_accuracy: 23\n"
     ]
    },
    {
     "data": {
      "image/png": "[encoded data removed]",
      "text/plain": [
       "<matplotlib.figure.Figure at 0x10bdc438>"
      ]
     },
     "metadata": {},
     "output_type": "display_data"
    },
    {
     "name": "stdout",
     "output_type": "stream",
     "text": [
      "6560 seconds\n"
     ]
    }
   ],
   "source": [
    "from sklearn.linear_model import LogisticRegressionCV\n",
    "starttime = datetime.now()\n",
    "\n",
    "pipe_LogRegCV = Pipeline([('clf', LogisticRegressionCV(random_state=14, n_jobs=1))])\n",
    "param_LogRegCV = {'clf__Cs': [10, ], #list of float|int\n",
    "                  #Each of the values in Cs describes the inverse of regularization strength. \n",
    "                  #If Cs is as an int, then a grid of Cs values are chosen in a logarithmic scale between 1e-4 and 1e4. \n",
    "                  #Like in support vector machines, smaller values specify stronger regularization.\n",
    "                  'clf__fit_intercept': [True, ], #default =\n",
    "                  'clf__cv': [None, ], #\n",
    "                  'clf__dual': [False, ], #\n",
    "                  #Dual or primal formulation. Dual formulation is only implemented for l2 penalty with liblinear solver.\n",
    "                  #Prefer dual=False when n_samples > n_features.\n",
    "                  'clf__penalty': ['l2', ], #\n",
    "                  #The ‘newton-cg’, ‘sag’ and ‘lbfgs’ solvers support only l2 penalties.\n",
    "                  'clf__scoring': [None, ], #\n",
    "                  'clf__solver': ['lbfgs', 'newton-cg', 'sag'], #default: ‘lbfgs’\n",
    "                  #For small datasets, ‘liblinear’ is a good choice, whereas ‘sag’ and‘saga’ are faster for large ones.\n",
    "                  #For multiclass problems, only newton-cg, sag, saga and lbfgs handle multinomial loss; liblinear is limited to ovr schemes.\n",
    "                  #‘newton-cg’, ‘lbfgs’ and ‘sag’ only handle L2 penalty, whereas ‘liblinear’ and ‘saga’ handle L1 penalty.\n",
    "                  #liblinear’ might be slower in LogisticRegressionCV because it does not handle warm-starting.\n",
    "                  #Note that ‘sag’ and ‘saga’ fast convergence is only guaranteed on features with approximately the same scale. \n",
    "                  #You can preprocess the data with a scaler from sklearn.preprocessing.\n",
    "                  'clf__tol': [0.0001, ], #\n",
    "                  'clf__max_iter': [1000, ], #\n",
    "                  'clf__class_weight': [None, ], #\n",
    "                  'clf__verbose': [0, ], #\n",
    "                  'clf__refit': [True, ], #\n",
    "                  'clf__intercept_scaling': [1.0, ], #\n",
    "                  #Useful only when the solver ‘liblinear’ is used and self.fit_intercept is set to True. \n",
    "                  'clf__multi_class': ['ovr', ] #\n",
    "                 }\n",
    "\n",
    "for i in range(0,1):\n",
    "    df_ =  locals()['df_sr'+ str(i)]\n",
    "    total_f(pipe_LogRegCV, param_LogRegCV)\n",
    "\n",
    "endtime = datetime.now()\n",
    "#end = time.time()\n",
    "#print(start-end)\n",
    "Time = endtime - starttime\n",
    "print(Time.seconds, 'seconds')"
   ]
  },
  {
   "cell_type": "code",
   "execution_count": null,
   "metadata": {
    "collapsed": true
   },
   "outputs": [],
   "source": [
    "################    2.2  linear_model.PassiveAggressiveClassifier\n",
    "'''\n",
    "The passive-aggressive algorithms are a family of algorithms for large-scale learning. \n",
    "They are similar to the Perceptron in that they do not require a learning rate. \n",
    "However, contrary to the Perceptron, they include a regularization parameter C.\n",
    "\n",
    "For classification, PassiveAggressiveClassifier can be used with loss='hinge' (PA-I) or loss='squared_hinge' (PA-II). \n",
    "For regression, PassiveAggressiveRegressor can be used with loss='epsilon_insensitive' (PA-I) or loss='squared_epsilon_insensitive' (PA-II).\n",
    "'''"
   ]
  },
  {
   "cell_type": "code",
   "execution_count": 5,
   "metadata": {},
   "outputs": [
    {
     "name": "stdout",
     "output_type": "stream",
     "text": [
      "Fitting 3 folds for each of 2 candidates, totalling 6 fits\n"
     ]
    },
    {
     "name": "stderr",
     "output_type": "stream",
     "text": [
      "[Parallel(n_jobs=-1)]: Done   6 out of   6 | elapsed:   33.1s remaining:    0.0s\n",
      "[Parallel(n_jobs=-1)]: Done   6 out of   6 | elapsed:   33.1s finished\n"
     ]
    },
    {
     "name": "stdout",
     "output_type": "stream",
     "text": [
      "df_R0 [10] precison: [ 0.06474147  0.04920858  0.08036062] recall: [ 0.07196402  0.06344411  0.06838906] f1: [ 0.06039074  0.04772467  0.05704069]\n",
      "Pipeline(steps=[('clf', PassiveAggressiveClassifier(C=1.0, class_weight=None, fit_intercept=True,\n",
      "              loss='hinge', n_iter=1000, n_jobs=-1, random_state=14,\n",
      "              shuffle=True, verbose=0, warm_start=False))])\n",
      "             precision    recall  f1-score   support\n",
      "\n",
      "          1       0.00      0.00      0.00        25\n",
      "          2       0.00      0.00      0.00        27\n",
      "          3       0.00      0.00      0.00        22\n",
      "          4       0.00      0.00      0.00        23\n",
      "          5       0.14      0.04      0.06        25\n",
      "          6       0.00      0.00      0.00        15\n",
      "          7       0.12      0.04      0.06        23\n",
      "          8       0.05      0.11      0.07        19\n",
      "          9       0.10      0.05      0.07        37\n",
      "         10       0.07      0.06      0.07        31\n",
      "         11       0.08      0.04      0.06        24\n",
      "         12       0.11      0.39      0.17        31\n",
      "         13       0.07      0.05      0.06        22\n",
      "         14       0.04      0.21      0.06        24\n",
      "         15       0.00      0.00      0.00        27\n",
      "         16       0.00      0.00      0.00        23\n",
      "\n",
      "avg / total       0.05      0.07      0.05       398\n",
      "\n",
      "n_accuracy: 27\n"
     ]
    },
    {
     "data": {
      "image/png": "[encoded data removed]",
      "text/plain": [
       "<matplotlib.figure.Figure at 0xe81df60>"
      ]
     },
     "metadata": {},
     "output_type": "display_data"
    },
    {
     "name": "stdout",
     "output_type": "stream",
     "text": [
      "84 seconds\n"
     ]
    },
    {
     "data": {
      "text/plain": [
       "\"\\nsome parameters are unavilible; see 'PassiveAggressiveClassifier().get_params().keys()'\\n#'clf__max_iter': [None, ],\\n#'clf__tol': [None, ],\\n#'clf__average': [False, ],\\n'clf__n_iter': [100, ]  #default=None was not support, only int\\n\""
      ]
     },
     "execution_count": 5,
     "metadata": {},
     "output_type": "execute_result"
    }
   ],
   "source": [
    "from sklearn.linear_model import PassiveAggressiveClassifier\n",
    "starttime = datetime.now()\n",
    "\n",
    "pipe_PAClassifier = Pipeline([('clf', PassiveAggressiveClassifier(random_state=14, n_jobs=-1))])\n",
    "param_PAClassifier = {'clf__C': [1.0, ], # #default=1.0, Maximum step size (regularization)\n",
    "                      'clf__fit_intercept': [True, ],\n",
    "                      #'clf__max_iter': [None, ], #default=None; Defaults to 5. Defaults to 1000 from 0.21, or if tol is not None.\n",
    "               #The maximum number of passes over the training data (aka epochs). \n",
    "               #It only impacts the behavior in the fit method, and not the partial_fit.\n",
    "                      #'clf__tol': [None, ], #Defaults to 1e-3 , stop when (loss > previous_loss - tol)\n",
    "                      'clf__shuffle': [True, ],  #default=True, Whether or not the training data should be shuffled after each epoch.\n",
    "                      'clf__verbose': [0, ],  #default=0, \n",
    "                      'clf__loss': ['hinge', 'squared_hinge'],  #default=epsilon_insensitive, \n",
    "               #hinge: equivalent to PA-I in the reference paper. squared_hinge: equivalent to PA-II in the reference paper.\n",
    "                      'clf__warm_start': [False, ],  #default=False\n",
    "                      'clf__class_weight': [None, ],  #default=None\n",
    "                      #'clf__average': [False, ],  #default=False\n",
    "               #When set to True, computes the averaged SGD weights and stores the result in the coef_ attribute. \n",
    "               #If set to an int greater than 1, averaging will begin once the total number of samples seen reaches average. \n",
    "               #So average=10 will begin averaging after seeing 10 samples.\n",
    "                      'clf__n_iter': [1000, ]  #default=\n",
    "                      }\n",
    "for i in range(0,1):\n",
    "    df_ =  locals()['df_sr'+ str(i)]\n",
    "    total_f(pipe_PAClassifier, param_PAClassifier)\n",
    "\n",
    "endtime = datetime.now()\n",
    "#end = time.time()\n",
    "#print(start-end)\n",
    "Time = endtime - starttime\n",
    "print(Time.seconds, 'seconds')\n",
    "'''\n",
    "some parameters are unavilible; see 'PassiveAggressiveClassifier().get_params().keys()'\n",
    "#'clf__max_iter': [None, ],\n",
    "#'clf__tol': [None, ],\n",
    "#'clf__average': [False, ],\n",
    "'clf__n_iter': [100, ]  #default=None was not support, only int\n",
    "'''"
   ]
  },
  {
   "cell_type": "code",
   "execution_count": null,
   "metadata": {
    "collapsed": true
   },
   "outputs": [],
   "source": [
    "################    2.3  linear_model.RidgeClassifierCV\n",
    "'''\n",
    "Ridge regression addresses some of the problems of Ordinary Least Squares by imposing a penalty on the size of coefficients. \n",
    "The ridge coefficients minimize a penalized residual sum of squares, min||Xw-y||^2+alpha*||w||^2; \n",
    "alpha>= 0 is a complexity parameter that controls the amount of shrinkage: the larger the value of alpha, \n",
    "the greater the amount of shrinkage and thus the coefficients become more robust to collinearity.\n",
    "'''"
   ]
  },
  {
   "cell_type": "code",
   "execution_count": 6,
   "metadata": {},
   "outputs": [
    {
     "name": "stdout",
     "output_type": "stream",
     "text": [
      "Fitting 3 folds for each of 2 candidates, totalling 6 fits\n"
     ]
    },
    {
     "name": "stderr",
     "output_type": "stream",
     "text": [
      "[Parallel(n_jobs=-1)]: Done   6 out of   6 | elapsed:    5.1s remaining:    0.0s\n",
      "[Parallel(n_jobs=-1)]: Done   6 out of   6 | elapsed:    5.2s finished\n"
     ]
    },
    {
     "name": "stdout",
     "output_type": "stream",
     "text": [
      "df_R0 [10] precison: [ 0.06  0.06  0.07] recall: [ 0.06  0.06  0.07] f1: [ 0.06  0.06  0.07]\n",
      "Pipeline(steps=[('clf', RidgeClassifierCV(alphas=(0.1, 1.0, 10.0), class_weight=None, cv=None,\n",
      "         fit_intercept=True, normalize=False, scoring=None))])\n",
      "             precision    recall  f1-score   support\n",
      "\n",
      "          1       0.08      0.08      0.08        25\n",
      "          2       0.09      0.07      0.08        27\n",
      "          3       0.04      0.05      0.04        22\n",
      "          4       0.05      0.04      0.05        23\n",
      "          5       0.12      0.12      0.12        25\n",
      "          6       0.00      0.00      0.00        15\n",
      "          7       0.04      0.04      0.04        23\n",
      "          8       0.00      0.00      0.00        19\n",
      "          9       0.08      0.03      0.04        37\n",
      "         10       0.00      0.00      0.00        31\n",
      "         11       0.00      0.00      0.00        24\n",
      "         12       0.09      0.10      0.10        31\n",
      "         13       0.18      0.18      0.18        22\n",
      "         14       0.00      0.00      0.00        24\n",
      "         15       0.16      0.19      0.17        27\n",
      "         16       0.07      0.13      0.09        23\n",
      "\n",
      "avg / total       0.07      0.07      0.06       398\n",
      "\n",
      "n_accuracy: 26\n"
     ]
    },
    {
     "data": {
      "image/png": "[encoded data removed]",
      "text/plain": [
       "<matplotlib.figure.Figure at 0xb5e00b8>"
      ]
     },
     "metadata": {},
     "output_type": "display_data"
    },
    {
     "name": "stdout",
     "output_type": "stream",
     "text": [
      "8 seconds\n"
     ]
    }
   ],
   "source": [
    "from sklearn.linear_model import RidgeClassifierCV\n",
    "starttime = datetime.now()\n",
    "\n",
    "pipe_RidgeClassifierCV = Pipeline([('clf', RidgeClassifierCV())])\n",
    "param_RidgeClassifierCV = {'clf__alphas': [(0.1, 1.0, 10.0), ], #default=(0.1, 1.0, 10.0)\n",
    "                 #Array of alpha values to try. Regularization strength; must be a positive float. \n",
    "                 #Regularization improves the conditioning of the problem and reduces the variance of the estimates. \n",
    "                 #Larger values specify stronger regularization. \n",
    "                 #Alpha corresponds to C^-1 in other linear models such as LogisticRegression or LinearSVC.\n",
    "                    'clf__fit_intercept': [True, ], # \n",
    "                    'clf__normalize': [False, ], #default:  median absolute deviation of the target values y\n",
    "                    'clf__scoring': [None, ], #Defaults \n",
    "                    'clf__cv': [None, ],\n",
    "                 #For integer/None inputs, if y is binary or multiclass, sklearn.model_selection.StratifiedKFold is used, \n",
    "                 #else, sklearn.model_selection.KFold is used.\n",
    "                    'clf__class_weight': [None, 'balanced'],  #default=None=auto\n",
    "                }\n",
    "for i in range(0,1):\n",
    "    df_ =  locals()['df_sr'+ str(i)]\n",
    "    total_f(pipe_RidgeClassifierCV, param_RidgeClassifierCV)\n",
    "\n",
    "endtime = datetime.now()\n",
    "#end = time.time()\n",
    "#print(start-end)\n",
    "Time = endtime - starttime\n",
    "print(Time.seconds, 'seconds')\n"
   ]
  },
  {
   "cell_type": "code",
   "execution_count": null,
   "metadata": {
    "collapsed": true
   },
   "outputs": [],
   "source": [
    "################    2.4  linear_model.SGDClassifier\n",
    "'''\n",
    "SGD applied to large-scale and sparse machine learning problems often encountered in text classification and natural language processing. \n",
    "For sparse data, the classifiers in this module easily scale to problems with more than 10^5 training examples and more than 10^5 features.\n",
    "\n",
    "The advantages of Stochastic Gradient Descent are:\n",
    "Efficiency.\n",
    "Ease of implementation (lots of opportunities for code tuning).\n",
    "\n",
    "The disadvantages of Stochastic Gradient Descent include:\n",
    "SGD requires a number of hyperparameters such as the regularization parameter and the number of iterations.\n",
    "SGD is sensitive to feature scaling.\n",
    "'''"
   ]
  },
  {
   "cell_type": "code",
   "execution_count": 7,
   "metadata": {},
   "outputs": [
    {
     "name": "stdout",
     "output_type": "stream",
     "text": [
      "Fitting 3 folds for each of 40 candidates, totalling 120 fits\n"
     ]
    },
    {
     "name": "stderr",
     "output_type": "stream",
     "text": [
      "[Parallel(n_jobs=-1)]: Done  42 tasks      | elapsed:  6.1min\n",
      "[Parallel(n_jobs=-1)]: Done 120 out of 120 | elapsed: 16.4min finished\n"
     ]
    },
    {
     "name": "stdout",
     "output_type": "stream",
     "text": [
      "df_R0 [10] precison: [ 0.07  0.05  0.06] recall: [ 0.07  0.06  0.06] f1: [ 0.06  0.05  0.06]\n",
      "Pipeline(steps=[('clf', SGDClassifier(alpha=0.0001, average=False, class_weight='balanced',\n",
      "       epsilon=0.1, eta0=0.0, fit_intercept=True, l1_ratio=0.15,\n",
      "       learning_rate='optimal', loss='log', n_iter=1000, n_jobs=-1,\n",
      "       penalty='l2', power_t=0.5, random_state=14, shuffle=True, verbose=0,\n",
      "       warm_start=False))])\n",
      "             precision    recall  f1-score   support\n",
      "\n",
      "          1       0.06      0.08      0.07        25\n",
      "          2       0.00      0.00      0.00        27\n",
      "          3       0.00      0.00      0.00        22\n",
      "          4       0.00      0.00      0.00        23\n",
      "          5       0.14      0.08      0.10        25\n",
      "          6       0.05      0.07      0.06        15\n",
      "          7       0.02      0.04      0.02        23\n",
      "          8       0.03      0.05      0.04        19\n",
      "          9       0.20      0.03      0.05        37\n",
      "         10       0.05      0.06      0.06        31\n",
      "         11       0.08      0.12      0.10        24\n",
      "         12       0.08      0.19      0.12        31\n",
      "         13       0.18      0.09      0.12        22\n",
      "         14       0.00      0.00      0.00        24\n",
      "         15       0.15      0.07      0.10        27\n",
      "         16       0.00      0.00      0.00        23\n",
      "\n",
      "avg / total       0.07      0.06      0.05       398\n",
      "\n",
      "n_accuracy: 23\n"
     ]
    },
    {
     "data": {
      "image/png": "[encoded data removed]",
      "text/plain": [
       "<matplotlib.figure.Figure at 0xe8aa7b8>"
      ]
     },
     "metadata": {},
     "output_type": "display_data"
    },
    {
     "name": "stdout",
     "output_type": "stream",
     "text": [
      "1074 seconds\n"
     ]
    },
    {
     "data": {
      "text/plain": [
       "\"\\nsome parameters are unavilible; see 'SGDClassifier().get_params().keys()'\\n#'clf__max_iter': [None, ],\\n#'clf__tol': [None, ],\\n'clf__n_iter': None, ]  #default=None was not support, only int\\n\""
      ]
     },
     "execution_count": 7,
     "metadata": {},
     "output_type": "execute_result"
    }
   ],
   "source": [
    "from sklearn.linear_model import SGDClassifier\n",
    "starttime = datetime.now()\n",
    "\n",
    "pipe_SGDClassifier = Pipeline([('clf', SGDClassifier(random_state=14,  n_jobs=-1))])\n",
    "param_SGDClassifier = {'clf__loss': ['hinge', 'log', 'modified_huber', 'squared_hinge', 'perceptron'], #default=hinge\n",
    "                #'log': loss gives logistic regression, a probabilistic classifier.\n",
    "                #'modified_huber': another smooth loss that brings tolerance to outliers as well as probability estimates.\n",
    "                # 'squared_hinge': is like hinge but is quadratically penalized.             \n",
    "                #'perceptron': the linear loss used by the perceptron algorithm.\n",
    "                #  The other losses are designed for regression but can be useful in classification as well; \n",
    "                'clf__penalty': ['l2', 'l1', 'elasticnet', None], # default='l2' \n",
    "                'clf__alpha': [0.0001, ], #default=0.0001;  Constant that multiplies the regularization term\n",
    "                'clf__l1_ratio': [0.15, ], #Default=0.15; The Elastic Net mixing parameter\n",
    "                'clf__fit_intercept': [True, ],\n",
    "                 #For integer/None inputs, if y is binary or multiclass, sklearn.model_selection.StratifiedKFold is used, \n",
    "                 #else, sklearn.model_selection.KFold is used.\n",
    "                #'clf__max_iter': [None,],  #default=None\n",
    "                #'clf__tol': [None,],  #default=None\n",
    "                'clf__shuffle': [True,],  #default=True\n",
    "                'clf__verbose': [0,],  #default=0\n",
    "                'clf__epsilon': [0.1,],  #default=0.1\n",
    "                # only if loss is 'huber', 'epsilon_insensitive', or 'squared_epsilon_insensitive'.\n",
    "                #For ‘huber’, determines the threshold at which it becomes less important to get the prediction exactly right. \n",
    "                #For epsilon-insensitive, any differences between the current prediction and the correct label are ignored \n",
    "                #    if they are less than this threshold.\n",
    "                'clf__learning_rate': ['optimal',],  #default='optimal'\n",
    "                #The learning rate schedule:\n",
    "                #    ‘constant’: eta = eta0; \n",
    "                #    ‘optimal’: eta = 1.0 / (alpha * (t + t0)) [default]\n",
    "                #    ‘invscaling’: eta = eta0 / pow(t, power_t); \n",
    "                #where t0 is chosen by a heuristic proposed by Leon Bottou.\n",
    "                'clf__eta0': [0.0,],  #default=0.01, double; The initial learning rate \n",
    "                'clf__power_t': [0.5,],  #default=0.25, double; The exponent for inverse scaling learning rate\n",
    "                       'clf__class_weight': [None, 'balanced'],\n",
    "                'clf__warm_start': [False,],  #default=False\n",
    "                'clf__average': [False,],  #default=False\n",
    "                #When set to True, computes the averaged SGD weights and stores the result in the coef_ attribute. \n",
    "                #If set to an int greater than 1, averaging will begin once the total number of samples seen reaches average. \n",
    "                #So average=10 will begin averaging after seeing 10 samples.\n",
    "                'clf__n_iter': [1000,] \n",
    "                }\n",
    "for i in range(0,1):\n",
    "    df_ =  locals()['df_sr'+ str(i)]\n",
    "    total_f(pipe_SGDClassifier, param_SGDClassifier)\n",
    "\n",
    "endtime = datetime.now()\n",
    "#end = time.time()\n",
    "#print(start-end)\n",
    "Time = endtime - starttime\n",
    "print(Time.seconds, 'seconds')\n",
    "'''\n",
    "some parameters are unavilible; see 'SGDClassifier().get_params().keys()'\n",
    "#'clf__max_iter': [None, ],\n",
    "#'clf__tol': [None, ],\n",
    "'clf__n_iter': None, ]  #default=None was not support, only int\n",
    "'''"
   ]
  },
  {
   "cell_type": "code",
   "execution_count": null,
   "metadata": {
    "collapsed": true
   },
   "outputs": [],
   "source": []
  },
  {
   "cell_type": "code",
   "execution_count": null,
   "metadata": {
    "collapsed": true
   },
   "outputs": [],
   "source": []
  },
  {
   "cell_type": "code",
   "execution_count": null,
   "metadata": {
    "collapsed": true
   },
   "outputs": [],
   "source": []
  }
 ],
 "metadata": {
  "kernelspec": {
   "display_name": "Python 3",
   "language": "python",
   "name": "python3"
  },
  "language_info": {
   "codemirror_mode": {
    "name": "ipython",
    "version": 3
   },
   "file_extension": ".py",
   "mimetype": "text/x-python",
   "name": "python",
   "nbconvert_exporter": "python",
   "pygments_lexer": "ipython3",
   "version": "3.6.1"
  }
 },
 "nbformat": 4,
 "nbformat_minor": 2
}
