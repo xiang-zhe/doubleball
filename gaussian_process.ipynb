{
 "cells": [
  {
   "cell_type": "code",
   "execution_count": null,
   "metadata": {
    "collapsed": true
   },
   "outputs": [],
   "source": [
    "'''\n",
    "The advantages of Gaussian processes are:\n",
    "\n",
    "The prediction interpolates the observations (at least for regular kernels).\n",
    "The prediction is probabilistic (Gaussian) so that one can compute empirical confidence intervals and \n",
    "decide based on those if one should refit (online fitting, adaptive fitting) the prediction in some region of interest.\n",
    "Versatile: different kernels can be specified. Common kernels are provided, but it is also possible to specify custom kernels.\n",
    "\n",
    "The disadvantages of Gaussian processes include:\n",
    "\n",
    "They are not sparse, i.e., they use the whole samples/features information to perform the prediction.\n",
    "They lose efficiency in high dimensional spaces – namely when the number of features exceeds a few dozens.\n",
    "'''"
   ]
  },
  {
   "cell_type": "code",
   "execution_count": 3,
   "metadata": {},
   "outputs": [
    {
     "data": {
      "text/html": [
       "<div>\n",
       "<style>\n",
       "    .dataframe thead tr:only-child th {\n",
       "        text-align: right;\n",
       "    }\n",
       "\n",
       "    .dataframe thead th {\n",
       "        text-align: left;\n",
       "    }\n",
       "\n",
       "    .dataframe tbody tr th {\n",
       "        vertical-align: top;\n",
       "    }\n",
       "</style>\n",
       "<table border=\"1\" class=\"dataframe\">\n",
       "  <thead>\n",
       "    <tr style=\"text-align: right;\">\n",
       "      <th></th>\n",
       "      <th>sr0</th>\n",
       "    </tr>\n",
       "  </thead>\n",
       "  <tbody>\n",
       "    <tr>\n",
       "      <th>2181</th>\n",
       "      <td>2</td>\n",
       "    </tr>\n",
       "    <tr>\n",
       "      <th>2182</th>\n",
       "      <td>11</td>\n",
       "    </tr>\n",
       "    <tr>\n",
       "      <th>2183</th>\n",
       "      <td>11</td>\n",
       "    </tr>\n",
       "    <tr>\n",
       "      <th>2184</th>\n",
       "      <td>11</td>\n",
       "    </tr>\n",
       "    <tr>\n",
       "      <th>2185</th>\n",
       "      <td>4</td>\n",
       "    </tr>\n",
       "  </tbody>\n",
       "</table>\n",
       "</div>"
      ],
      "text/plain": [
       "      sr0\n",
       "2181    2\n",
       "2182   11\n",
       "2183   11\n",
       "2184   11\n",
       "2185    4"
      ]
     },
     "execution_count": 3,
     "metadata": {},
     "output_type": "execute_result"
    }
   ],
   "source": [
    "import csv\n",
    "import sys\n",
    "import os\n",
    "import pandas as pd\n",
    "import numpy as np\n",
    "from numpy import *\n",
    "from datetime import datetime\n",
    "from operator import itemgetter\n",
    "from collections import defaultdict\n",
    "\n",
    "import matplotlib.pyplot as plt\n",
    "import itertools\n",
    "from sklearn.metrics import confusion_matrix\n",
    "from sklearn.metrics import classification_report\n",
    "\n",
    "from sklearn.model_selection import cross_val_score\n",
    "from sklearn.model_selection import GridSearchCV\n",
    "from sklearn.pipeline import Pipeline\n",
    "from sklearn.model_selection import train_test_split\n",
    "\n",
    "%matplotlib inline\n",
    "\n",
    "#plt.style.use('ggplot')\n",
    "df=pd.read_excel('H:/lottery/ssq.xls',sheet_name='data')\n",
    "df.columns=['num', 'date', 'r1', 'r2', 'r3', 'r4', 'r5', 'r6', 'b', 'sr1', 'sr2',\n",
    "       'sr3', 'sr4', 'sr5', 'sr6', 'sales_volume', 'pool', 'first', 'bonus1', 'second', 'bonus2',\n",
    "       'third', 'bonus3', 'fourth', 'bonus4', 'fifth', 'bonus5', 'sexth', 'bonus6']\n",
    "#df.tail()\n",
    "X = df[[ 'b']]\n",
    "X.columns=['sr0']\n",
    "X.tail()"
   ]
  },
  {
   "cell_type": "code",
   "execution_count": 4,
   "metadata": {},
   "outputs": [
    {
     "name": "stdout",
     "output_type": "stream",
     "text": [
      "14 seconds\n"
     ]
    }
   ],
   "source": [
    "starttime = datetime.now()\n",
    "num_rows = X.shape[0]\n",
    "def creat_datasets(X, features ):\n",
    "    df_ = pd.DataFrame(columns = list(range(0, features)))\n",
    "    index = 0\n",
    "    for i in range(features, num_rows+1):\n",
    "        df_.loc[index] = X[col][i-features: i].reset_index(drop = True)\n",
    "        index += 1\n",
    "    return df_\n",
    "\n",
    "for col in X.columns :\n",
    "    locals()['df_'+ str(col)] = creat_datasets(X, 20)\n",
    "endtime = datetime.now()\n",
    "Time = endtime - starttime\n",
    "print(Time.seconds, 'seconds')\n",
    "# 至此据集完成"
   ]
  },
  {
   "cell_type": "code",
   "execution_count": 5,
   "metadata": {},
   "outputs": [],
   "source": [
    "def split_c(df_):\n",
    "    # choose frequence >10 samples\n",
    "    #df = df_[df_[99].isin(df_[99].groupby(df_[99]).count()[df_[99].groupby(df_[99]).count()>30].index)]\n",
    "    X_ = df_.iloc[:, : -1].values\n",
    "    y_ = df_.iloc[:, -1].astype(int).values #dataframe.as_matrix() \n",
    "    ''' why need astpye(int/str), otherwise error with y_type=object??'''\n",
    "    X_train, X_test, y_train, y_test = train_test_split(X_, y_, test_size=0.2, random_state=14)\n",
    "    return X_, y_, X_train, X_test, y_train, y_test\n",
    "def score_c(clf, cv=3):\n",
    "    precision = cross_val_score(clf, X_, y_, cv=cv, scoring='precision_weighted')\n",
    "    recall = cross_val_score(clf, X_, y_, cv=cv, scoring='recall_weighted')\n",
    "    fls = cross_val_score(clf, X_, y_, cv=cv, scoring='f1_weighted')\n",
    "    return precision, recall, fls\n",
    "\n",
    "def plot_confusion_matrix(cm, classes,\n",
    "                          normalize=False,\n",
    "                          title='Confusion matrix',\n",
    "                          cmap=plt.cm.Blues):\n",
    "    \"\"\"\n",
    "    This function prints and plots the confusion matrix.\n",
    "    Normalization can be applied by setting `normalize=True`.\n",
    "    \"\"\"\n",
    "    '''if normalize:\n",
    "        cm = cm.astype('float') / cm.sum(axis=1)[:, np.newaxis]\n",
    "        print(\"Normalized confusion matrix\")\n",
    "    else:\n",
    "        print('Confusion matrix, without normalization')\n",
    "\n",
    "    print(cm)'''\n",
    "\n",
    "    plt.imshow(cm, interpolation='nearest', cmap=cmap)\n",
    "    plt.title(title)\n",
    "    plt.colorbar()\n",
    "    tick_marks = np.arange(len(classes))\n",
    "    plt.xticks(tick_marks, classes, rotation=45)\n",
    "    plt.yticks(tick_marks, classes)\n",
    "\n",
    "    fmt = '.2f' if normalize else 'd'\n",
    "    thresh = cm.max() / 2.\n",
    "    for i, j in itertools.product(range(cm.shape[0]), range(cm.shape[1])):\n",
    "        plt.text(j, i, format(cm[i, j], fmt),\n",
    "                 horizontalalignment=\"center\",\n",
    "                 color=\"white\" if cm[i, j] > thresh else \"black\")\n",
    "\n",
    "    plt.tight_layout()\n",
    "    plt.ylabel('True label')\n",
    "    plt.xlabel('Predicted label')\n",
    "    \n",
    "def total_f(pipe_LinearSVC, param_LinearSVC):\n",
    "    X_ = df_.iloc[:, : -1].values\n",
    "    y_ = df_.iloc[:, -1].astype(int).values.reshape(-1)\n",
    "    #dataframe.as_matrix()\n",
    "    X_train, X_test, y_train, y_test = train_test_split(X_, y_, test_size=0.2, random_state=14)\n",
    "    \n",
    "    grid_=GridSearchCV(pipe_LinearSVC, param_LinearSVC, n_jobs=-1, verbose=1, scoring='accuracy')\n",
    "    #default=None, and the default scorer of DT is accuracy. see also DecisionTreeClassifier.score(X, y)\n",
    "    grid_.fit(X_train, y_train)\n",
    "    # evaluation for best parameters\n",
    "    precision = cross_val_score(grid_.best_estimator_, X_, y_, cv=3, scoring='precision_weighted')\n",
    "    recall = cross_val_score(grid_.best_estimator_, X_, y_, cv=3, scoring='recall_weighted')\n",
    "    fls = cross_val_score(grid_.best_estimator_, X_, y_, cv=3, scoring='f1_weighted')\n",
    "    new = grid_.predict(df_.iloc[-1,1: ].values.reshape(1,-1))\n",
    "    print('df_R'+ str(i), new, 'precison:', precision, 'recall:', recall, 'f1:', fls)\n",
    "    print(grid_.best_estimator_)\n",
    "    \n",
    "    class_names = np.unique(y_train)\n",
    "    y_pred = grid_.predict(X_test)\n",
    "    report = classification_report(y_test, y_pred)\n",
    "    c = np.sum(y_test == y_pred)\n",
    "    print(report)\n",
    "    print('n_accuracy:', c)\n",
    "    cnf_matrix = confusion_matrix(y_test, y_pred)\n",
    "    np.set_printoptions(precision=2)\n",
    "    plt.figure(figsize=(8,8))\n",
    "    plot_confusion_matrix(cnf_matrix, classes=class_names)\n",
    "    plt.show()"
   ]
  },
  {
   "cell_type": "code",
   "execution_count": 6,
   "metadata": {
    "scrolled": true
   },
   "outputs": [
    {
     "name": "stdout",
     "output_type": "stream",
     "text": [
      "Fitting 3 folds for each of 1 candidates, totalling 3 fits\n"
     ]
    },
    {
     "name": "stderr",
     "output_type": "stream",
     "text": [
      "[Parallel(n_jobs=-1)]: Done   3 out of   3 | elapsed: 53.2min finished\n",
      "D:\\Anaconda3\\lib\\site-packages\\sklearn\\metrics\\classification.py:1113: UndefinedMetricWarning: Precision is ill-defined and being set to 0.0 in labels with no predicted samples.\n",
      "  'precision', 'predicted', average, warn_for)\n",
      "D:\\Anaconda3\\lib\\site-packages\\sklearn\\metrics\\classification.py:1113: UndefinedMetricWarning: Precision is ill-defined and being set to 0.0 in labels with no predicted samples.\n",
      "  'precision', 'predicted', average, warn_for)\n",
      "D:\\Anaconda3\\lib\\site-packages\\sklearn\\metrics\\classification.py:1113: UndefinedMetricWarning: Precision is ill-defined and being set to 0.0 in labels with no predicted samples.\n",
      "  'precision', 'predicted', average, warn_for)\n",
      "D:\\Anaconda3\\lib\\site-packages\\sklearn\\metrics\\classification.py:1113: UndefinedMetricWarning: F-score is ill-defined and being set to 0.0 in labels with no predicted samples.\n",
      "  'precision', 'predicted', average, warn_for)\n",
      "D:\\Anaconda3\\lib\\site-packages\\sklearn\\metrics\\classification.py:1113: UndefinedMetricWarning: F-score is ill-defined and being set to 0.0 in labels with no predicted samples.\n",
      "  'precision', 'predicted', average, warn_for)\n",
      "D:\\Anaconda3\\lib\\site-packages\\sklearn\\metrics\\classification.py:1113: UndefinedMetricWarning: F-score is ill-defined and being set to 0.0 in labels with no predicted samples.\n",
      "  'precision', 'predicted', average, warn_for)\n"
     ]
    },
    {
     "name": "stdout",
     "output_type": "stream",
     "text": [
      "df_R0 [16] precison: [ 0.00419105  0.00420262  0.00412752] recall: [ 0.06473829  0.06482759  0.06424581] f1: [ 0.00787244  0.00789351  0.00775671]\n",
      "Pipeline(steps=[('clf', GaussianProcessClassifier(copy_X_train=True, kernel=None,\n",
      "             max_iter_predict=100, multi_class='one_vs_rest', n_jobs=-1,\n",
      "             n_restarts_optimizer=0, optimizer='fmin_l_bfgs_b',\n",
      "             random_state=14, warm_start=False))])\n"
     ]
    },
    {
     "name": "stderr",
     "output_type": "stream",
     "text": [
      "D:\\Anaconda3\\lib\\site-packages\\sklearn\\metrics\\classification.py:1113: UndefinedMetricWarning: Precision and F-score are ill-defined and being set to 0.0 in labels with no predicted samples.\n",
      "  'precision', 'predicted', average, warn_for)\n"
     ]
    },
    {
     "name": "stdout",
     "output_type": "stream",
     "text": [
      "             precision    recall  f1-score   support\n",
      "\n",
      "          1       0.00      0.00      0.00        29\n",
      "          2       0.00      0.00      0.00        22\n",
      "          3       0.00      0.00      0.00        23\n",
      "          4       0.00      0.00      0.00        22\n",
      "          5       0.00      0.00      0.00        23\n",
      "          6       0.00      0.00      0.00        20\n",
      "          7       0.00      0.00      0.00        28\n",
      "          8       0.00      0.00      0.00        16\n",
      "          9       0.00      0.00      0.00        29\n",
      "         10       0.00      0.00      0.00        22\n",
      "         11       0.00      0.00      0.00        33\n",
      "         12       0.00      0.00      0.00        32\n",
      "         13       0.00      0.00      0.00        30\n",
      "         14       0.00      0.00      0.00        28\n",
      "         15       0.00      0.00      0.00        39\n",
      "         16       0.09      1.00      0.16        38\n",
      "\n",
      "avg / total       0.01      0.09      0.01       434\n",
      "\n",
      "n_accuracy: 38\n"
     ]
    },
    {
     "data": {
      "image/png": "[encoded data removed]",
      "text/plain": [
       "<matplotlib.figure.Figure at 0x7e0c278>"
      ]
     },
     "metadata": {},
     "output_type": "display_data"
    },
    {
     "name": "stdout",
     "output_type": "stream",
     "text": [
      "11498 seconds\n"
     ]
    }
   ],
   "source": [
    "from sklearn.gaussian_process import GaussianProcessClassifier\n",
    "from sklearn.gaussian_process.kernels import RBF, DotProduct, ConstantKernel\n",
    "\n",
    "starttime = datetime.now()\n",
    "\n",
    "pipe_Gaussian = Pipeline([('clf', GaussianProcessClassifier(random_state=14, n_jobs=-1))])\n",
    "param_Gaussian = {'clf__kernel': [None, ], #default = None('1.0 * RBF(1.0)')\n",
    "                  #The kernel specifying the covariance function of the GP. \n",
    "                  #Note that the kernel’s hyperparameters are optimized during fitting.\n",
    "                  #kernel=C(0.1, (1e-5, np.inf)) * DotProduct(sigma_0=0.1) ** 2; 1.0 * RBF(length_scale=1.0); 1.0 * DotProduct(sigma_0=1.0)**2\n",
    "                  'clf__optimizer': ['fmin_l_bfgs_b', ], #default ='fmin_l_bfgs_b'\n",
    "                  'clf__n_restarts_optimizer': [0, ],\n",
    "                  'clf__max_iter_predict': [100, ],\n",
    "                  'clf__warm_start': [False, ], \n",
    "                  'clf__copy_X_train': [True, ],\n",
    "                  'clf__multi_class': ['one_vs_rest', ],\n",
    "                  'clf__warm_start': [False, ]\n",
    "                  }\n",
    "for i in range(0,1):\n",
    "    df_ =  locals()['df_sr'+ str(i)]\n",
    "    total_f(pipe_Gaussian, param_Gaussian)\n",
    "\n",
    "endtime = datetime.now()\n",
    "\n",
    "Time = endtime - starttime\n",
    "print(Time.seconds, 'seconds')"
   ]
  },
  {
   "cell_type": "code",
   "execution_count": null,
   "metadata": {
    "collapsed": true
   },
   "outputs": [],
   "source": [
    "ConstantKernel(0.1, (1e-5, np.inf)) * DotProduct(sigma_0=0.1) ** 2, \n",
    "                                 1.0 * RBF(length_scale=1.0), 1.0 * DotProduct(sigma_0=1.0)**2"
   ]
  },
  {
   "cell_type": "code",
   "execution_count": null,
   "metadata": {},
   "outputs": [],
   "source": []
  },
  {
   "cell_type": "code",
   "execution_count": null,
   "metadata": {
    "collapsed": true
   },
   "outputs": [],
   "source": []
  }
 ],
 "metadata": {
  "kernelspec": {
   "display_name": "Python 3",
   "language": "python",
   "name": "python3"
  },
  "language_info": {
   "codemirror_mode": {
    "name": "ipython",
    "version": 3
   },
   "file_extension": ".py",
   "mimetype": "text/x-python",
   "name": "python",
   "nbconvert_exporter": "python",
   "pygments_lexer": "ipython3",
   "version": "3.6.1"
  }
 },
 "nbformat": 4,
 "nbformat_minor": 2
}
