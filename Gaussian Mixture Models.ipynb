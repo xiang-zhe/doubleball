{
 "cells": [
  {
   "cell_type": "code",
   "execution_count": null,
   "metadata": {
    "collapsed": true
   },
   "outputs": [],
   "source": []
  },
  {
   "cell_type": "code",
   "execution_count": 1,
   "metadata": {},
   "outputs": [
    {
     "data": {
      "text/html": [
       "<div>\n",
       "<style>\n",
       "    .dataframe thead tr:only-child th {\n",
       "        text-align: right;\n",
       "    }\n",
       "\n",
       "    .dataframe thead th {\n",
       "        text-align: left;\n",
       "    }\n",
       "\n",
       "    .dataframe tbody tr th {\n",
       "        vertical-align: top;\n",
       "    }\n",
       "</style>\n",
       "<table border=\"1\" class=\"dataframe\">\n",
       "  <thead>\n",
       "    <tr style=\"text-align: right;\">\n",
       "      <th></th>\n",
       "      <th>sr0</th>\n",
       "    </tr>\n",
       "  </thead>\n",
       "  <tbody>\n",
       "    <tr>\n",
       "      <th>2181</th>\n",
       "      <td>2</td>\n",
       "    </tr>\n",
       "    <tr>\n",
       "      <th>2182</th>\n",
       "      <td>11</td>\n",
       "    </tr>\n",
       "    <tr>\n",
       "      <th>2183</th>\n",
       "      <td>11</td>\n",
       "    </tr>\n",
       "    <tr>\n",
       "      <th>2184</th>\n",
       "      <td>11</td>\n",
       "    </tr>\n",
       "    <tr>\n",
       "      <th>2185</th>\n",
       "      <td>4</td>\n",
       "    </tr>\n",
       "  </tbody>\n",
       "</table>\n",
       "</div>"
      ],
      "text/plain": [
       "      sr0\n",
       "2181    2\n",
       "2182   11\n",
       "2183   11\n",
       "2184   11\n",
       "2185    4"
      ]
     },
     "execution_count": 1,
     "metadata": {},
     "output_type": "execute_result"
    }
   ],
   "source": [
    "import csv\n",
    "import sys\n",
    "import os\n",
    "import pandas as pd\n",
    "import numpy as np\n",
    "from numpy import *\n",
    "from datetime import datetime\n",
    "from operator import itemgetter\n",
    "from collections import defaultdict\n",
    "\n",
    "import matplotlib.pyplot as plt\n",
    "import itertools\n",
    "from sklearn.metrics import confusion_matrix\n",
    "from sklearn.metrics import classification_report\n",
    "\n",
    "from sklearn.model_selection import cross_val_score\n",
    "from sklearn.model_selection import GridSearchCV\n",
    "from sklearn.pipeline import Pipeline\n",
    "from sklearn.model_selection import train_test_split\n",
    "\n",
    "%matplotlib inline\n",
    "\n",
    "#plt.style.use('ggplot')\n",
    "df=pd.read_excel('H:/lottery/ssq.xls',sheet_name='data')\n",
    "df.columns=['num', 'date', 'r1', 'r2', 'r3', 'r4', 'r5', 'r6', 'b', 'sr1', 'sr2',\n",
    "       'sr3', 'sr4', 'sr5', 'sr6', 'sales_volume', 'pool', 'first', 'bonus1', 'second', 'bonus2',\n",
    "       'third', 'bonus3', 'fourth', 'bonus4', 'fifth', 'bonus5', 'sexth', 'bonus6']\n",
    "#df.tail()\n",
    "X = df[[ 'b']]\n",
    "X.columns=['sr0']\n",
    "X.tail()"
   ]
  },
  {
   "cell_type": "code",
   "execution_count": 2,
   "metadata": {},
   "outputs": [
    {
     "name": "stdout",
     "output_type": "stream",
     "text": [
      "13 seconds\n"
     ]
    }
   ],
   "source": [
    "starttime = datetime.now()\n",
    "num_rows = X.shape[0]\n",
    "def creat_datasets(X, features ):\n",
    "    df_ = pd.DataFrame(columns = list(range(0, features)))\n",
    "    index = 0\n",
    "    for i in range(features, num_rows+1):\n",
    "        df_.loc[index] = X[col][i-features: i].reset_index(drop = True)\n",
    "        index += 1\n",
    "    return df_\n",
    "\n",
    "for col in X.columns :\n",
    "    locals()['df_'+ str(col)] = creat_datasets(X, 200)\n",
    "endtime = datetime.now()\n",
    "Time = endtime - starttime\n",
    "print(Time.seconds, 'seconds')\n",
    "# 至此据集完成"
   ]
  },
  {
   "cell_type": "code",
   "execution_count": 3,
   "metadata": {
    "collapsed": true
   },
   "outputs": [],
   "source": [
    "def split_c(df_):\n",
    "    # choose frequence >10 samples\n",
    "    #df = df_[df_[99].isin(df_[99].groupby(df_[99]).count()[df_[99].groupby(df_[99]).count()>30].index)]\n",
    "    X_ = df_.iloc[:, : -1].values\n",
    "    y_ = df_.iloc[:, -1].astype(int).values #dataframe.as_matrix() \n",
    "    ''' why need astpye(int/str), otherwise error with y_type=object??'''\n",
    "    X_train, X_test, y_train, y_test = train_test_split(X_, y_, test_size=0.2, random_state=14)\n",
    "    return X_, y_, X_train, X_test, y_train, y_test\n",
    "def score_c(clf, cv=3):\n",
    "    precision = cross_val_score(clf, X_, y_, cv=cv, scoring='precision_weighted')\n",
    "    recall = cross_val_score(clf, X_, y_, cv=cv, scoring='recall_weighted')\n",
    "    fls = cross_val_score(clf, X_, y_, cv=cv, scoring='f1_weighted')\n",
    "    return precision, recall, fls\n",
    "\n",
    "def plot_confusion_matrix(cm, classes,\n",
    "                          normalize=False,\n",
    "                          title='Confusion matrix',\n",
    "                          cmap=plt.cm.Blues):\n",
    "    \"\"\"\n",
    "    This function prints and plots the confusion matrix.\n",
    "    Normalization can be applied by setting `normalize=True`.\n",
    "    \"\"\"\n",
    "    '''if normalize:\n",
    "        cm = cm.astype('float') / cm.sum(axis=1)[:, np.newaxis]\n",
    "        print(\"Normalized confusion matrix\")\n",
    "    else:\n",
    "        print('Confusion matrix, without normalization')\n",
    "\n",
    "    print(cm)'''\n",
    "\n",
    "    plt.imshow(cm, interpolation='nearest', cmap=cmap)\n",
    "    plt.title(title)\n",
    "    plt.colorbar()\n",
    "    tick_marks = np.arange(len(classes))\n",
    "    plt.xticks(tick_marks, classes, rotation=45)\n",
    "    plt.yticks(tick_marks, classes)\n",
    "\n",
    "    fmt = '.2f' if normalize else 'd'\n",
    "    thresh = cm.max() / 2.\n",
    "    for i, j in itertools.product(range(cm.shape[0]), range(cm.shape[1])):\n",
    "        plt.text(j, i, format(cm[i, j], fmt),\n",
    "                 horizontalalignment=\"center\",\n",
    "                 color=\"white\" if cm[i, j] > thresh else \"black\")\n",
    "\n",
    "    plt.tight_layout()\n",
    "    plt.ylabel('True label')\n",
    "    plt.xlabel('Predicted label')\n",
    "    \n",
    "def total_f(pipe_LinearSVC, param_LinearSVC):\n",
    "    X_ = df_.iloc[:, : -1].values\n",
    "    y_ = df_.iloc[:, -1].astype(int).values.reshape(-1)\n",
    "    #dataframe.as_matrix()\n",
    "    X_train, X_test, y_train, y_test = train_test_split(X_, y_, test_size=0.2, random_state=14)\n",
    "    \n",
    "    grid_=GridSearchCV(pipe_LinearSVC, param_LinearSVC, n_jobs=-1, verbose=1, scoring='accuracy')\n",
    "    #default=None, and the default scorer of DT is accuracy. see also DecisionTreeClassifier.score(X, y)\n",
    "    grid_.fit(X_train, y_train)\n",
    "    # evaluation for best parameters\n",
    "    precision = cross_val_score(grid_.best_estimator_, X_, y_, cv=3, scoring='precision_weighted')\n",
    "    recall = cross_val_score(grid_.best_estimator_, X_, y_, cv=3, scoring='recall_weighted')\n",
    "    fls = cross_val_score(grid_.best_estimator_, X_, y_, cv=3, scoring='f1_weighted')\n",
    "    new = grid_.predict(df_.iloc[-1,1: ].values.reshape(1,-1))\n",
    "    print('df_R'+ str(i), new, 'precison:', precision, 'recall:', recall, 'f1:', fls)\n",
    "    print(grid_.best_estimator_)\n",
    "    \n",
    "    class_names = np.unique(y_train)\n",
    "    y_pred = grid_.predict(X_test)\n",
    "    report = classification_report(y_test, y_pred)\n",
    "    c = np.sum(y_test == y_pred)\n",
    "    print(report)\n",
    "    print('n_accuracy:', c)\n",
    "    cnf_matrix = confusion_matrix(y_test, y_pred)\n",
    "    np.set_printoptions(precision=2)\n",
    "    plt.figure(figsize=(8,8))\n",
    "    plot_confusion_matrix(cnf_matrix, classes=class_names)\n",
    "    plt.show()"
   ]
  },
  {
   "cell_type": "code",
   "execution_count": null,
   "metadata": {
    "collapsed": true
   },
   "outputs": [],
   "source": [
    "################    1  mixture.BayesianGaussianMixture\n",
    "'''\n",
    "A Gaussian mixture model is a probabilistic model that assumes all the data points are generated from a mixture of a finite \n",
    "number of Gaussian distributions with unknown parameters. One can think of mixture models as generalizing k-means clustering to \n",
    "incorporate information about the covariance structure of the data as well as the centers of the latent Gaussians.\n",
    "'''"
   ]
  },
  {
   "cell_type": "code",
   "execution_count": 9,
   "metadata": {
    "scrolled": true
   },
   "outputs": [
    {
     "name": "stdout",
     "output_type": "stream",
     "text": [
      "Fitting 3 folds for each of 30 candidates, totalling 90 fits\n"
     ]
    },
    {
     "name": "stderr",
     "output_type": "stream",
     "text": [
      "[Parallel(n_jobs=-1)]: Done  42 tasks      | elapsed:   48.1s\n",
      "[Parallel(n_jobs=-1)]: Done  90 out of  90 | elapsed:   57.8s finished\n",
      "D:\\Anaconda3\\lib\\site-packages\\sklearn\\metrics\\classification.py:1113: UndefinedMetricWarning: Precision is ill-defined and being set to 0.0 in labels with no predicted samples.\n",
      "  'precision', 'predicted', average, warn_for)\n",
      "D:\\Anaconda3\\lib\\site-packages\\sklearn\\metrics\\classification.py:1113: UndefinedMetricWarning: Precision is ill-defined and being set to 0.0 in labels with no predicted samples.\n",
      "  'precision', 'predicted', average, warn_for)\n",
      "D:\\Anaconda3\\lib\\site-packages\\sklearn\\metrics\\classification.py:1113: UndefinedMetricWarning: Precision is ill-defined and being set to 0.0 in labels with no predicted samples.\n",
      "  'precision', 'predicted', average, warn_for)\n",
      "D:\\Anaconda3\\lib\\site-packages\\sklearn\\metrics\\classification.py:1115: UndefinedMetricWarning: Recall is ill-defined and being set to 0.0 in labels with no true samples.\n",
      "  'recall', 'true', average, warn_for)\n",
      "D:\\Anaconda3\\lib\\site-packages\\sklearn\\metrics\\classification.py:1115: UndefinedMetricWarning: Recall is ill-defined and being set to 0.0 in labels with no true samples.\n",
      "  'recall', 'true', average, warn_for)\n",
      "D:\\Anaconda3\\lib\\site-packages\\sklearn\\metrics\\classification.py:1115: UndefinedMetricWarning: Recall is ill-defined and being set to 0.0 in labels with no true samples.\n",
      "  'recall', 'true', average, warn_for)\n",
      "D:\\Anaconda3\\lib\\site-packages\\sklearn\\metrics\\classification.py:1113: UndefinedMetricWarning: F-score is ill-defined and being set to 0.0 in labels with no predicted samples.\n",
      "  'precision', 'predicted', average, warn_for)\n",
      "D:\\Anaconda3\\lib\\site-packages\\sklearn\\metrics\\classification.py:1115: UndefinedMetricWarning: F-score is ill-defined and being set to 0.0 in labels with no true samples.\n",
      "  'recall', 'true', average, warn_for)\n",
      "D:\\Anaconda3\\lib\\site-packages\\sklearn\\metrics\\classification.py:1113: UndefinedMetricWarning: F-score is ill-defined and being set to 0.0 in labels with no predicted samples.\n",
      "  'precision', 'predicted', average, warn_for)\n",
      "D:\\Anaconda3\\lib\\site-packages\\sklearn\\metrics\\classification.py:1115: UndefinedMetricWarning: F-score is ill-defined and being set to 0.0 in labels with no true samples.\n",
      "  'recall', 'true', average, warn_for)\n",
      "D:\\Anaconda3\\lib\\site-packages\\sklearn\\metrics\\classification.py:1113: UndefinedMetricWarning: F-score is ill-defined and being set to 0.0 in labels with no predicted samples.\n",
      "  'precision', 'predicted', average, warn_for)\n",
      "D:\\Anaconda3\\lib\\site-packages\\sklearn\\metrics\\classification.py:1115: UndefinedMetricWarning: F-score is ill-defined and being set to 0.0 in labels with no true samples.\n",
      "  'recall', 'true', average, warn_for)\n",
      "D:\\Anaconda3\\lib\\site-packages\\sklearn\\metrics\\classification.py:1113: UndefinedMetricWarning: Precision and F-score are ill-defined and being set to 0.0 in labels with no predicted samples.\n",
      "  'precision', 'predicted', average, warn_for)\n"
     ]
    },
    {
     "name": "stdout",
     "output_type": "stream",
     "text": [
      "df_R0 [12] precison: [ 0.02  0.03  0.04] recall: [ 0.06  0.05  0.07] f1: [ 0.03  0.03  0.03]\n",
      "Pipeline(steps=[('clf', BayesianGaussianMixture(covariance_prior=None, covariance_type='full',\n",
      "            degrees_of_freedom_prior=None, init_params='random',\n",
      "            max_iter=1000, mean_precision_prior=None, mean_prior=None,\n",
      "            n_components=14, n_init=1, random_state=14, reg_covar=1e-06,\n",
      "            tol=0.001, verbose=0, verbose_interval=10, warm_start=False,\n",
      "            weight_concentration_prior=None,\n",
      "            weight_concentration_prior_type='dirichlet_process'))])\n",
      "             precision    recall  f1-score   support\n",
      "\n",
      "          1       0.00      0.00      0.00        25\n",
      "          2       0.04      0.04      0.04        27\n",
      "          3       0.00      0.00      0.00        22\n",
      "          4       0.00      0.00      0.00        23\n",
      "          5       0.00      0.00      0.00        25\n",
      "          6       0.00      0.00      0.00        15\n",
      "          7       0.00      0.00      0.00        23\n",
      "          8       0.00      0.00      0.00        19\n",
      "          9       0.00      0.00      0.00        37\n",
      "         10       0.00      0.00      0.00        31\n",
      "         11       0.00      0.00      0.00        24\n",
      "         12       0.08      0.68      0.14        31\n",
      "         13       0.06      0.27      0.10        22\n",
      "         14       0.00      0.00      0.00        24\n",
      "         15       0.00      0.00      0.00        27\n",
      "         16       0.00      0.00      0.00        23\n",
      "\n",
      "avg / total       0.01      0.07      0.02       398\n",
      "\n",
      "n_accuracy: 28\n"
     ]
    },
    {
     "data": {
      "image/png": "[encoded data removed]",
      "text/plain": [
       "<matplotlib.figure.Figure at 0xa6e4780>"
      ]
     },
     "metadata": {},
     "output_type": "display_data"
    },
    {
     "name": "stdout",
     "output_type": "stream",
     "text": [
      "73 seconds\n"
     ]
    }
   ],
   "source": [
    "from sklearn.mixture import BayesianGaussianMixture\n",
    "\n",
    "starttime = datetime.now()\n",
    "\n",
    "pipe_BGMixture = Pipeline([('clf', BayesianGaussianMixture(random_state=14))])\n",
    "param_BGMixture = {'clf__n_components': [13, 14, 15, 16, 17], #default = 1; The number of mixture components\n",
    "                   #Depending on the data and the value of the weight_concentration_prior the model can decide to not use all the components \n",
    "                   #by setting some component weights_ to values very close to zero. \n",
    "                   #The number of effective components is therefore smaller than n_components.\n",
    "                   'clf__covariance_type': ['full', 'diag', 'spherical'], #default =full; describing the type of covariance parameters to use.\n",
    "                   #'full' (each component has its own general covariance matrix),\n",
    "                    #'tied' (all components share the same general covariance matrix),\n",
    "                    #'diag' (each component has its own diagonal covariance matrix),\n",
    "                    #'spherical' (each component has its own single variance).\n",
    "                   'clf__tol': [0.001, ], #default =0.001,\n",
    "                   #EM iterations will stop when the lower bound average gain on the likelihood(training datato model) is below the threshold.\n",
    "                    'clf__reg_covar': [1e-06, ], #default =1e-06, \n",
    "                   #Non-negative regularization added to the diagonal of covariance. Allows to assure the covariance matrices are all positive.\n",
    "                    'clf__max_iter': [1000, ],\n",
    "                    'clf__n_init': [1, ], \n",
    "                #Hyper-parameter : shape parameter for the Gamma distribution prior over the lambda parameter\n",
    "                    'clf__init_params': ['kmeans', 'random'], #default=kmeans; used to initialize the weights,the means and the covariances.\n",
    "                    'clf__weight_concentration_prior_type': ['dirichlet_process', ], #default=dirichlet_process\n",
    "                    #'dirichlet_process' (using the Stick-breaking representation),\n",
    "                    #'dirichlet_distribution' (can favor more uniform weights).\n",
    "                   'clf__weight_concentration_prior': [None, ], #default =None= 1/ n_components； float \n",
    "                   #The dirichlet concentration of each component on the weight distribution. This is commonly called gamma in the literature. \n",
    "                   #The higher concentration puts more mass in the center and will lead to more components being active, \n",
    "                   #while a lower concentration parameter will lead to more mass at the edge of the mixture weights simplex. \n",
    "                   #The value of the parameter must be greater than 0.\n",
    "                   'clf__mean_precision_prior': [None, ], #default = None=1 ;  float \n",
    "                   #The precision prior on the mean distribution (Gaussian). \n",
    "                   #Controls the extend to where means can be placed. Smaller values concentrate the means of each clusters around mean_prior. \n",
    "                   #The value of the parameter must be greater than 0. If it is None, it’s set to 1\n",
    "                   'clf__mean_prior': [None, ],  #array-like, shape (n_features,) #default = None \n",
    "                   #The prior on the mean distribution (Gaussian). If it is None, it’s set to the mean of X\n",
    "                   'clf__degrees_of_freedom_prior': [None, ], #If it is None, it’s set to n_features.\n",
    "                   #The prior of the number of degrees of freedom on the covariance distributions (Wishart). \n",
    "                   'clf__covariance_prior': [None, ], #float or array-like\n",
    "                   #The prior on the covariance distribution (Wishart). \n",
    "                   #If it is None, the emiprical covariance prior is initialized using the covariance of X. \n",
    "                   #The shape depends on covariance_type:\n",
    "                   #        (n_features, n_features) if 'full',\n",
    "                   #        (n_features, n_features) if 'tied',\n",
    "                   #        (n_features)             if 'diag',\n",
    "                   #        float                    if 'spherical'\n",
    "                   'clf__warm_start': [False, ],\n",
    "                    'clf__verbose': [0, ], #default = 0\n",
    "                   #If 1 then it prints the current initialization and each iteration step.\n",
    "                   #If greater than 1 then it prints also the log probability and the time needed for each step.\n",
    "                   'clf__verbose_interval': [10, ] #default = 10\n",
    "                   #Number of iteration done before the next print.\n",
    "                  }\n",
    "for i in range(0,1):\n",
    "    df_ =  locals()['df_sr'+ str(i)]\n",
    "    total_f(pipe_BGMixture, param_BGMixture)\n",
    "\n",
    "endtime = datetime.now()\n",
    "Time = endtime - starttime\n",
    "print(Time.seconds, 'seconds')"
   ]
  },
  {
   "cell_type": "code",
   "execution_count": null,
   "metadata": {
    "collapsed": true
   },
   "outputs": [],
   "source": [
    "################    2  mixture.BayesianGaussianMixture\n",
    "'''\n",
    "A Gaussian mixture model is a probabilistic model that assumes all the data points are generated from a mixture of a finite \n",
    "number of Gaussian distributions with unknown parameters. One can think of mixture models as generalizing k-means clustering to \n",
    "incorporate information about the covariance structure of the data as well as the centers of the latent Gaussians.\n",
    "'''"
   ]
  },
  {
   "cell_type": "code",
   "execution_count": 9,
   "metadata": {},
   "outputs": [
    {
     "name": "stdout",
     "output_type": "stream",
     "text": [
      "Fitting 3 folds for each of 24 candidates, totalling 72 fits\n"
     ]
    },
    {
     "name": "stderr",
     "output_type": "stream",
     "text": [
      "[Parallel(n_jobs=-1)]: Done  42 tasks      | elapsed:  2.3min\n",
      "[Parallel(n_jobs=-1)]: Done  72 out of  72 | elapsed:  3.1min finished\n",
      "D:\\Anaconda3\\lib\\site-packages\\sklearn\\metrics\\classification.py:1113: UndefinedMetricWarning: Precision is ill-defined and being set to 0.0 in labels with no predicted samples.\n",
      "  'precision', 'predicted', average, warn_for)\n",
      "D:\\Anaconda3\\lib\\site-packages\\sklearn\\metrics\\classification.py:1113: UndefinedMetricWarning: Precision is ill-defined and being set to 0.0 in labels with no predicted samples.\n",
      "  'precision', 'predicted', average, warn_for)\n",
      "D:\\Anaconda3\\lib\\site-packages\\sklearn\\metrics\\classification.py:1113: UndefinedMetricWarning: Precision is ill-defined and being set to 0.0 in labels with no predicted samples.\n",
      "  'precision', 'predicted', average, warn_for)\n",
      "D:\\Anaconda3\\lib\\site-packages\\sklearn\\metrics\\classification.py:1115: UndefinedMetricWarning: Recall is ill-defined and being set to 0.0 in labels with no true samples.\n",
      "  'recall', 'true', average, warn_for)\n",
      "D:\\Anaconda3\\lib\\site-packages\\sklearn\\metrics\\classification.py:1113: UndefinedMetricWarning: F-score is ill-defined and being set to 0.0 in labels with no predicted samples.\n",
      "  'precision', 'predicted', average, warn_for)\n",
      "D:\\Anaconda3\\lib\\site-packages\\sklearn\\metrics\\classification.py:1115: UndefinedMetricWarning: F-score is ill-defined and being set to 0.0 in labels with no true samples.\n",
      "  'recall', 'true', average, warn_for)\n",
      "D:\\Anaconda3\\lib\\site-packages\\sklearn\\metrics\\classification.py:1113: UndefinedMetricWarning: F-score is ill-defined and being set to 0.0 in labels with no predicted samples.\n",
      "  'precision', 'predicted', average, warn_for)\n",
      "D:\\Anaconda3\\lib\\site-packages\\sklearn\\metrics\\classification.py:1113: UndefinedMetricWarning: F-score is ill-defined and being set to 0.0 in labels with no predicted samples.\n",
      "  'precision', 'predicted', average, warn_for)\n",
      "D:\\Anaconda3\\lib\\site-packages\\sklearn\\metrics\\classification.py:1113: UndefinedMetricWarning: Precision and F-score are ill-defined and being set to 0.0 in labels with no predicted samples.\n",
      "  'precision', 'predicted', average, warn_for)\n"
     ]
    },
    {
     "name": "stdout",
     "output_type": "stream",
     "text": [
      "df_R0 [2] precison: [ 0.02  0.05  0.02] recall: [ 0.08  0.05  0.07] f1: [ 0.02  0.02  0.02]\n",
      "Pipeline(steps=[('clf', GaussianMixture(covariance_type='full', init_params='kmeans', max_iter=1000,\n",
      "        means_init=None, n_components=15, n_init=1, precisions_init=None,\n",
      "        random_state=14, reg_covar=1e-06, tol=0.001, verbose=0,\n",
      "        verbose_interval=10, warm_start=False, weights_init=None))])\n",
      "             precision    recall  f1-score   support\n",
      "\n",
      "          1       0.00      0.00      0.00        25\n",
      "          2       0.08      0.26      0.12        27\n",
      "          3       0.00      0.00      0.00        22\n",
      "          4       0.50      0.09      0.15        23\n",
      "          5       0.12      0.16      0.14        25\n",
      "          6       0.00      0.00      0.00        15\n",
      "          7       0.05      0.48      0.08        23\n",
      "          8       0.00      0.00      0.00        19\n",
      "          9       0.08      0.05      0.06        37\n",
      "         10       0.00      0.00      0.00        31\n",
      "         11       0.00      0.00      0.00        24\n",
      "         12       0.00      0.00      0.00        31\n",
      "         13       0.00      0.00      0.00        22\n",
      "         14       0.00      0.00      0.00        24\n",
      "         15       0.00      0.00      0.00        27\n",
      "         16       0.00      0.00      0.00        23\n",
      "\n",
      "avg / total       0.05      0.07      0.04       398\n",
      "\n",
      "n_accuracy: 26\n"
     ]
    },
    {
     "data": {
      "image/png": "[encoded data removed]",
      "text/plain": [
       "<matplotlib.figure.Figure at 0xe3ae7b8>"
      ]
     },
     "metadata": {},
     "output_type": "display_data"
    },
    {
     "name": "stdout",
     "output_type": "stream",
     "text": [
      "197 seconds\n"
     ]
    }
   ],
   "source": [
    "from sklearn.mixture import GaussianMixture\n",
    "\n",
    "starttime = datetime.now()\n",
    "\n",
    "pipe_GaussianMixture = Pipeline([('clf', GaussianMixture(random_state=14))])\n",
    "param_GaussianMixture = {'clf__n_components': [1, 15, 50, 180], #default = 1; The number of mixture components\n",
    "                   #Depending on the data and the value of the weight_concentration_prior the model can decide to not use all the components \n",
    "                   #by setting some component weights_ to values very close to zero. \n",
    "                   #The number of effective components is therefore smaller than n_components.\n",
    "                   'clf__covariance_type': ['full', 'diag', 'spherical'], #default =full; describing the type of covariance parameters to use.\n",
    "                   #'full' (each component has its own general covariance matrix),\n",
    "                    #'tied' (all components share the same general covariance matrix),\n",
    "                    #'diag' (each component has its own diagonal covariance matrix),\n",
    "                    #'spherical' (each component has its own single variance).\n",
    "                   'clf__tol': [0.001, ], #default =0.001,\n",
    "                   #EM iterations will stop when the lower bound average gain on the likelihood(training datato model) is below the threshold.\n",
    "                    'clf__reg_covar': [1e-06, ], #default =1e-06, \n",
    "                   #Non-negative regularization added to the diagonal of covariance. Allows to assure the covariance matrices are all positive.\n",
    "                    'clf__max_iter': [1000, ],\n",
    "                    'clf__n_init': [1, ], \n",
    "                #Hyper-parameter : shape parameter for the Gamma distribution prior over the lambda parameter\n",
    "                    'clf__init_params': ['kmeans', 'random'], #default=kmeans; used to initialize the weights,the means and the covariances.\n",
    "                    'clf__weights_init': [None, ], #default=None; array-like, shape (n_components, ), optional\n",
    "                    #The user-provided initial weights. If it None, weights are initialized using the init_params method\n",
    "                    'clf__means_init': [None, ], #default =None; The user-provided initial means, \n",
    "                         #If it None, means are initialized using the init_params method.\n",
    "                   'clf__precisions_init': [None, ], #default = None ;  array-like \n",
    "                   #The user-provided initial precisions (inverse of the covariance matrices)\n",
    "                   #If it None, precisions are initialized using the ‘init_params’ method. The shape depends on ‘covariance_type’:\n",
    "                   #        (n_components,)                        if 'spherical',\n",
    "                   #        (n_features, n_features)               if 'tied',\n",
    "                   #        (n_components, n_features)             if 'diag',\n",
    "                   #        (n_components, n_features, n_features) if 'full'\n",
    "                   'clf__warm_start': [False, ],\n",
    "                    'clf__verbose': [0, ], #default = 0\n",
    "                   #If 1 then it prints the current initialization and each iteration step.\n",
    "                   #If greater than 1 then it prints also the log probability and the time needed for each step.\n",
    "                   'clf__verbose_interval': [10, ] #default = 10\n",
    "                   #Number of iteration done before the next print.\n",
    "                        }\n",
    "for i in range(0,1):\n",
    "    df_ =  locals()['df_sr'+ str(i)]\n",
    "    total_f(pipe_GaussianMixture, param_GaussianMixture)\n",
    "\n",
    "endtime = datetime.now()\n",
    "Time = endtime - starttime\n",
    "print(Time.seconds, 'seconds')\n"
   ]
  },
  {
   "cell_type": "code",
   "execution_count": null,
   "metadata": {
    "collapsed": true
   },
   "outputs": [],
   "source": []
  }
 ],
 "metadata": {
  "kernelspec": {
   "display_name": "Python 3",
   "language": "python",
   "name": "python3"
  },
  "language_info": {
   "codemirror_mode": {
    "name": "ipython",
    "version": 3
   },
   "file_extension": ".py",
   "mimetype": "text/x-python",
   "name": "python",
   "nbconvert_exporter": "python",
   "pygments_lexer": "ipython3",
   "version": "3.6.1"
  }
 },
 "nbformat": 4,
 "nbformat_minor": 2
}
